{
 "cells": [
  {
   "cell_type": "code",
   "execution_count": 51,
   "id": "5f1907ef",
   "metadata": {},
   "outputs": [],
   "source": [
    "import numpy as np\n",
    "import pandas as pd\n",
    "import seaborn as sns\n",
    "import matplotlib.pyplot as plt\n",
    "\n",
    "pd.set_option('display.max_columns', None)\n",
    "pd.set_option('display.float_format', lambda x: '%.3f' % x)\n",
    "pd.set_option('display.width', 500)\n",
    "\n",
    "#!pip install missingno\n",
    "import missingno as msno\n",
    "from datetime import date\n",
    "\n",
    "from sklearn.metrics import accuracy_score\n",
    "from sklearn.model_selection import train_test_split\n",
    "from sklearn.neighbors import LocalOutlierFactor\n",
    "from sklearn.preprocessing import MinMaxScaler, LabelEncoder, StandardScaler, RobustScaler"
   ]
  },
  {
   "cell_type": "code",
   "execution_count": 52,
   "id": "e58adf7c",
   "metadata": {},
   "outputs": [],
   "source": [
    "data=pd.read_csv('US_Accidents_March23.csv')"
   ]
  },
  {
   "cell_type": "code",
   "execution_count": 53,
   "id": "1b9ffed3",
   "metadata": {},
   "outputs": [
    {
     "data": {
      "text/html": [
       "<div>\n",
       "<style scoped>\n",
       "    .dataframe tbody tr th:only-of-type {\n",
       "        vertical-align: middle;\n",
       "    }\n",
       "\n",
       "    .dataframe tbody tr th {\n",
       "        vertical-align: top;\n",
       "    }\n",
       "\n",
       "    .dataframe thead th {\n",
       "        text-align: right;\n",
       "    }\n",
       "</style>\n",
       "<table border=\"1\" class=\"dataframe\">\n",
       "  <thead>\n",
       "    <tr style=\"text-align: right;\">\n",
       "      <th></th>\n",
       "      <th>ID</th>\n",
       "      <th>Source</th>\n",
       "      <th>Severity</th>\n",
       "      <th>Start_Time</th>\n",
       "      <th>End_Time</th>\n",
       "      <th>Start_Lat</th>\n",
       "      <th>Start_Lng</th>\n",
       "      <th>End_Lat</th>\n",
       "      <th>End_Lng</th>\n",
       "      <th>Distance(mi)</th>\n",
       "      <th>Description</th>\n",
       "      <th>Street</th>\n",
       "      <th>City</th>\n",
       "      <th>County</th>\n",
       "      <th>State</th>\n",
       "      <th>Zipcode</th>\n",
       "      <th>Country</th>\n",
       "      <th>Timezone</th>\n",
       "      <th>Airport_Code</th>\n",
       "      <th>Weather_Timestamp</th>\n",
       "      <th>Temperature(F)</th>\n",
       "      <th>Wind_Chill(F)</th>\n",
       "      <th>Humidity(%)</th>\n",
       "      <th>Pressure(in)</th>\n",
       "      <th>Visibility(mi)</th>\n",
       "      <th>Wind_Direction</th>\n",
       "      <th>Wind_Speed(mph)</th>\n",
       "      <th>Precipitation(in)</th>\n",
       "      <th>Weather_Condition</th>\n",
       "      <th>Amenity</th>\n",
       "      <th>Bump</th>\n",
       "      <th>Crossing</th>\n",
       "      <th>Give_Way</th>\n",
       "      <th>Junction</th>\n",
       "      <th>No_Exit</th>\n",
       "      <th>Railway</th>\n",
       "      <th>Roundabout</th>\n",
       "      <th>Station</th>\n",
       "      <th>Stop</th>\n",
       "      <th>Traffic_Calming</th>\n",
       "      <th>Traffic_Signal</th>\n",
       "      <th>Turning_Loop</th>\n",
       "      <th>Sunrise_Sunset</th>\n",
       "      <th>Civil_Twilight</th>\n",
       "      <th>Nautical_Twilight</th>\n",
       "      <th>Astronomical_Twilight</th>\n",
       "    </tr>\n",
       "  </thead>\n",
       "  <tbody>\n",
       "    <tr>\n",
       "      <th>0</th>\n",
       "      <td>A-1</td>\n",
       "      <td>Source2</td>\n",
       "      <td>3</td>\n",
       "      <td>2016-02-08 05:46:00</td>\n",
       "      <td>2016-02-08 11:00:00</td>\n",
       "      <td>39.865</td>\n",
       "      <td>-84.059</td>\n",
       "      <td>NaN</td>\n",
       "      <td>NaN</td>\n",
       "      <td>0.010</td>\n",
       "      <td>Right lane blocked due to accident on I-70 Eas...</td>\n",
       "      <td>I-70 E</td>\n",
       "      <td>Dayton</td>\n",
       "      <td>Montgomery</td>\n",
       "      <td>OH</td>\n",
       "      <td>45424</td>\n",
       "      <td>US</td>\n",
       "      <td>US/Eastern</td>\n",
       "      <td>KFFO</td>\n",
       "      <td>2016-02-08 05:58:00</td>\n",
       "      <td>36.900</td>\n",
       "      <td>NaN</td>\n",
       "      <td>91.000</td>\n",
       "      <td>29.680</td>\n",
       "      <td>10.000</td>\n",
       "      <td>Calm</td>\n",
       "      <td>NaN</td>\n",
       "      <td>0.020</td>\n",
       "      <td>Light Rain</td>\n",
       "      <td>False</td>\n",
       "      <td>False</td>\n",
       "      <td>False</td>\n",
       "      <td>False</td>\n",
       "      <td>False</td>\n",
       "      <td>False</td>\n",
       "      <td>False</td>\n",
       "      <td>False</td>\n",
       "      <td>False</td>\n",
       "      <td>False</td>\n",
       "      <td>False</td>\n",
       "      <td>False</td>\n",
       "      <td>False</td>\n",
       "      <td>Night</td>\n",
       "      <td>Night</td>\n",
       "      <td>Night</td>\n",
       "      <td>Night</td>\n",
       "    </tr>\n",
       "    <tr>\n",
       "      <th>1</th>\n",
       "      <td>A-2</td>\n",
       "      <td>Source2</td>\n",
       "      <td>2</td>\n",
       "      <td>2016-02-08 06:07:59</td>\n",
       "      <td>2016-02-08 06:37:59</td>\n",
       "      <td>39.928</td>\n",
       "      <td>-82.831</td>\n",
       "      <td>NaN</td>\n",
       "      <td>NaN</td>\n",
       "      <td>0.010</td>\n",
       "      <td>Accident on Brice Rd at Tussing Rd. Expect del...</td>\n",
       "      <td>Brice Rd</td>\n",
       "      <td>Reynoldsburg</td>\n",
       "      <td>Franklin</td>\n",
       "      <td>OH</td>\n",
       "      <td>43068-3402</td>\n",
       "      <td>US</td>\n",
       "      <td>US/Eastern</td>\n",
       "      <td>KCMH</td>\n",
       "      <td>2016-02-08 05:51:00</td>\n",
       "      <td>37.900</td>\n",
       "      <td>NaN</td>\n",
       "      <td>100.000</td>\n",
       "      <td>29.650</td>\n",
       "      <td>10.000</td>\n",
       "      <td>Calm</td>\n",
       "      <td>NaN</td>\n",
       "      <td>0.000</td>\n",
       "      <td>Light Rain</td>\n",
       "      <td>False</td>\n",
       "      <td>False</td>\n",
       "      <td>False</td>\n",
       "      <td>False</td>\n",
       "      <td>False</td>\n",
       "      <td>False</td>\n",
       "      <td>False</td>\n",
       "      <td>False</td>\n",
       "      <td>False</td>\n",
       "      <td>False</td>\n",
       "      <td>False</td>\n",
       "      <td>False</td>\n",
       "      <td>False</td>\n",
       "      <td>Night</td>\n",
       "      <td>Night</td>\n",
       "      <td>Night</td>\n",
       "      <td>Day</td>\n",
       "    </tr>\n",
       "    <tr>\n",
       "      <th>2</th>\n",
       "      <td>A-3</td>\n",
       "      <td>Source2</td>\n",
       "      <td>2</td>\n",
       "      <td>2016-02-08 06:49:27</td>\n",
       "      <td>2016-02-08 07:19:27</td>\n",
       "      <td>39.063</td>\n",
       "      <td>-84.033</td>\n",
       "      <td>NaN</td>\n",
       "      <td>NaN</td>\n",
       "      <td>0.010</td>\n",
       "      <td>Accident on OH-32 State Route 32 Westbound at ...</td>\n",
       "      <td>State Route 32</td>\n",
       "      <td>Williamsburg</td>\n",
       "      <td>Clermont</td>\n",
       "      <td>OH</td>\n",
       "      <td>45176</td>\n",
       "      <td>US</td>\n",
       "      <td>US/Eastern</td>\n",
       "      <td>KI69</td>\n",
       "      <td>2016-02-08 06:56:00</td>\n",
       "      <td>36.000</td>\n",
       "      <td>33.300</td>\n",
       "      <td>100.000</td>\n",
       "      <td>29.670</td>\n",
       "      <td>10.000</td>\n",
       "      <td>SW</td>\n",
       "      <td>3.500</td>\n",
       "      <td>NaN</td>\n",
       "      <td>Overcast</td>\n",
       "      <td>False</td>\n",
       "      <td>False</td>\n",
       "      <td>False</td>\n",
       "      <td>False</td>\n",
       "      <td>False</td>\n",
       "      <td>False</td>\n",
       "      <td>False</td>\n",
       "      <td>False</td>\n",
       "      <td>False</td>\n",
       "      <td>False</td>\n",
       "      <td>False</td>\n",
       "      <td>True</td>\n",
       "      <td>False</td>\n",
       "      <td>Night</td>\n",
       "      <td>Night</td>\n",
       "      <td>Day</td>\n",
       "      <td>Day</td>\n",
       "    </tr>\n",
       "    <tr>\n",
       "      <th>3</th>\n",
       "      <td>A-4</td>\n",
       "      <td>Source2</td>\n",
       "      <td>3</td>\n",
       "      <td>2016-02-08 07:23:34</td>\n",
       "      <td>2016-02-08 07:53:34</td>\n",
       "      <td>39.748</td>\n",
       "      <td>-84.206</td>\n",
       "      <td>NaN</td>\n",
       "      <td>NaN</td>\n",
       "      <td>0.010</td>\n",
       "      <td>Accident on I-75 Southbound at Exits 52 52B US...</td>\n",
       "      <td>I-75 S</td>\n",
       "      <td>Dayton</td>\n",
       "      <td>Montgomery</td>\n",
       "      <td>OH</td>\n",
       "      <td>45417</td>\n",
       "      <td>US</td>\n",
       "      <td>US/Eastern</td>\n",
       "      <td>KDAY</td>\n",
       "      <td>2016-02-08 07:38:00</td>\n",
       "      <td>35.100</td>\n",
       "      <td>31.000</td>\n",
       "      <td>96.000</td>\n",
       "      <td>29.640</td>\n",
       "      <td>9.000</td>\n",
       "      <td>SW</td>\n",
       "      <td>4.600</td>\n",
       "      <td>NaN</td>\n",
       "      <td>Mostly Cloudy</td>\n",
       "      <td>False</td>\n",
       "      <td>False</td>\n",
       "      <td>False</td>\n",
       "      <td>False</td>\n",
       "      <td>False</td>\n",
       "      <td>False</td>\n",
       "      <td>False</td>\n",
       "      <td>False</td>\n",
       "      <td>False</td>\n",
       "      <td>False</td>\n",
       "      <td>False</td>\n",
       "      <td>False</td>\n",
       "      <td>False</td>\n",
       "      <td>Night</td>\n",
       "      <td>Day</td>\n",
       "      <td>Day</td>\n",
       "      <td>Day</td>\n",
       "    </tr>\n",
       "    <tr>\n",
       "      <th>4</th>\n",
       "      <td>A-5</td>\n",
       "      <td>Source2</td>\n",
       "      <td>2</td>\n",
       "      <td>2016-02-08 07:39:07</td>\n",
       "      <td>2016-02-08 08:09:07</td>\n",
       "      <td>39.628</td>\n",
       "      <td>-84.188</td>\n",
       "      <td>NaN</td>\n",
       "      <td>NaN</td>\n",
       "      <td>0.010</td>\n",
       "      <td>Accident on McEwen Rd at OH-725 Miamisburg Cen...</td>\n",
       "      <td>Miamisburg Centerville Rd</td>\n",
       "      <td>Dayton</td>\n",
       "      <td>Montgomery</td>\n",
       "      <td>OH</td>\n",
       "      <td>45459</td>\n",
       "      <td>US</td>\n",
       "      <td>US/Eastern</td>\n",
       "      <td>KMGY</td>\n",
       "      <td>2016-02-08 07:53:00</td>\n",
       "      <td>36.000</td>\n",
       "      <td>33.300</td>\n",
       "      <td>89.000</td>\n",
       "      <td>29.650</td>\n",
       "      <td>6.000</td>\n",
       "      <td>SW</td>\n",
       "      <td>3.500</td>\n",
       "      <td>NaN</td>\n",
       "      <td>Mostly Cloudy</td>\n",
       "      <td>False</td>\n",
       "      <td>False</td>\n",
       "      <td>False</td>\n",
       "      <td>False</td>\n",
       "      <td>False</td>\n",
       "      <td>False</td>\n",
       "      <td>False</td>\n",
       "      <td>False</td>\n",
       "      <td>False</td>\n",
       "      <td>False</td>\n",
       "      <td>False</td>\n",
       "      <td>True</td>\n",
       "      <td>False</td>\n",
       "      <td>Day</td>\n",
       "      <td>Day</td>\n",
       "      <td>Day</td>\n",
       "      <td>Day</td>\n",
       "    </tr>\n",
       "  </tbody>\n",
       "</table>\n",
       "</div>"
      ],
      "text/plain": [
       "    ID   Source  Severity           Start_Time             End_Time  Start_Lat  Start_Lng  End_Lat  End_Lng  Distance(mi)                                        Description                     Street          City      County State     Zipcode Country    Timezone Airport_Code    Weather_Timestamp  Temperature(F)  Wind_Chill(F)  Humidity(%)  Pressure(in)  Visibility(mi) Wind_Direction  Wind_Speed(mph)  Precipitation(in) Weather_Condition  Amenity   Bump  Crossing  Give_Way  Junction  No_Exit  \\\n",
       "0  A-1  Source2         3  2016-02-08 05:46:00  2016-02-08 11:00:00     39.865    -84.059      NaN      NaN         0.010  Right lane blocked due to accident on I-70 Eas...                     I-70 E        Dayton  Montgomery    OH       45424      US  US/Eastern         KFFO  2016-02-08 05:58:00          36.900            NaN       91.000        29.680          10.000           Calm              NaN              0.020        Light Rain    False  False     False     False     False    False   \n",
       "1  A-2  Source2         2  2016-02-08 06:07:59  2016-02-08 06:37:59     39.928    -82.831      NaN      NaN         0.010  Accident on Brice Rd at Tussing Rd. Expect del...                   Brice Rd  Reynoldsburg    Franklin    OH  43068-3402      US  US/Eastern         KCMH  2016-02-08 05:51:00          37.900            NaN      100.000        29.650          10.000           Calm              NaN              0.000        Light Rain    False  False     False     False     False    False   \n",
       "2  A-3  Source2         2  2016-02-08 06:49:27  2016-02-08 07:19:27     39.063    -84.033      NaN      NaN         0.010  Accident on OH-32 State Route 32 Westbound at ...             State Route 32  Williamsburg    Clermont    OH       45176      US  US/Eastern         KI69  2016-02-08 06:56:00          36.000         33.300      100.000        29.670          10.000             SW            3.500                NaN          Overcast    False  False     False     False     False    False   \n",
       "3  A-4  Source2         3  2016-02-08 07:23:34  2016-02-08 07:53:34     39.748    -84.206      NaN      NaN         0.010  Accident on I-75 Southbound at Exits 52 52B US...                     I-75 S        Dayton  Montgomery    OH       45417      US  US/Eastern         KDAY  2016-02-08 07:38:00          35.100         31.000       96.000        29.640           9.000             SW            4.600                NaN     Mostly Cloudy    False  False     False     False     False    False   \n",
       "4  A-5  Source2         2  2016-02-08 07:39:07  2016-02-08 08:09:07     39.628    -84.188      NaN      NaN         0.010  Accident on McEwen Rd at OH-725 Miamisburg Cen...  Miamisburg Centerville Rd        Dayton  Montgomery    OH       45459      US  US/Eastern         KMGY  2016-02-08 07:53:00          36.000         33.300       89.000        29.650           6.000             SW            3.500                NaN     Mostly Cloudy    False  False     False     False     False    False   \n",
       "\n",
       "   Railway  Roundabout  Station   Stop  Traffic_Calming  Traffic_Signal  Turning_Loop Sunrise_Sunset Civil_Twilight Nautical_Twilight Astronomical_Twilight  \n",
       "0    False       False    False  False            False           False         False          Night          Night             Night                 Night  \n",
       "1    False       False    False  False            False           False         False          Night          Night             Night                   Day  \n",
       "2    False       False    False  False            False            True         False          Night          Night               Day                   Day  \n",
       "3    False       False    False  False            False           False         False          Night            Day               Day                   Day  \n",
       "4    False       False    False  False            False            True         False            Day            Day               Day                   Day  "
      ]
     },
     "execution_count": 53,
     "metadata": {},
     "output_type": "execute_result"
    }
   ],
   "source": [
    "data.head()"
   ]
  },
  {
   "cell_type": "code",
   "execution_count": 54,
   "id": "8c3df7df",
   "metadata": {},
   "outputs": [
    {
     "name": "stdout",
     "output_type": "stream",
     "text": [
      "<class 'pandas.core.frame.DataFrame'>\n",
      "RangeIndex: 7728394 entries, 0 to 7728393\n",
      "Data columns (total 46 columns):\n",
      " #   Column                 Dtype  \n",
      "---  ------                 -----  \n",
      " 0   ID                     object \n",
      " 1   Source                 object \n",
      " 2   Severity               int64  \n",
      " 3   Start_Time             object \n",
      " 4   End_Time               object \n",
      " 5   Start_Lat              float64\n",
      " 6   Start_Lng              float64\n",
      " 7   End_Lat                float64\n",
      " 8   End_Lng                float64\n",
      " 9   Distance(mi)           float64\n",
      " 10  Description            object \n",
      " 11  Street                 object \n",
      " 12  City                   object \n",
      " 13  County                 object \n",
      " 14  State                  object \n",
      " 15  Zipcode                object \n",
      " 16  Country                object \n",
      " 17  Timezone               object \n",
      " 18  Airport_Code           object \n",
      " 19  Weather_Timestamp      object \n",
      " 20  Temperature(F)         float64\n",
      " 21  Wind_Chill(F)          float64\n",
      " 22  Humidity(%)            float64\n",
      " 23  Pressure(in)           float64\n",
      " 24  Visibility(mi)         float64\n",
      " 25  Wind_Direction         object \n",
      " 26  Wind_Speed(mph)        float64\n",
      " 27  Precipitation(in)      float64\n",
      " 28  Weather_Condition      object \n",
      " 29  Amenity                bool   \n",
      " 30  Bump                   bool   \n",
      " 31  Crossing               bool   \n",
      " 32  Give_Way               bool   \n",
      " 33  Junction               bool   \n",
      " 34  No_Exit                bool   \n",
      " 35  Railway                bool   \n",
      " 36  Roundabout             bool   \n",
      " 37  Station                bool   \n",
      " 38  Stop                   bool   \n",
      " 39  Traffic_Calming        bool   \n",
      " 40  Traffic_Signal         bool   \n",
      " 41  Turning_Loop           bool   \n",
      " 42  Sunrise_Sunset         object \n",
      " 43  Civil_Twilight         object \n",
      " 44  Nautical_Twilight      object \n",
      " 45  Astronomical_Twilight  object \n",
      "dtypes: bool(13), float64(12), int64(1), object(20)\n",
      "memory usage: 2.0+ GB\n"
     ]
    }
   ],
   "source": [
    "data.info()"
   ]
  },
  {
   "cell_type": "code",
   "execution_count": 55,
   "id": "755dd1b7",
   "metadata": {},
   "outputs": [],
   "source": [
    "data[\"Start_Time\"]=pd.to_datetime(data[\"Start_Time\"],errors=\"coerce\")\n",
    "data[\"End_Time\"]=pd.to_datetime(data[\"End_Time\"],errors=\"coerce\")\n",
    "data[\"Weather_Timestamp\"]=pd.to_datetime(data[\"Weather_Timestamp\"],errors=\"coerce\")"
   ]
  },
  {
   "cell_type": "code",
   "execution_count": 56,
   "id": "f1f17026",
   "metadata": {},
   "outputs": [
    {
     "data": {
      "text/html": [
       "<div>\n",
       "<style scoped>\n",
       "    .dataframe tbody tr th:only-of-type {\n",
       "        vertical-align: middle;\n",
       "    }\n",
       "\n",
       "    .dataframe tbody tr th {\n",
       "        vertical-align: top;\n",
       "    }\n",
       "\n",
       "    .dataframe thead th {\n",
       "        text-align: right;\n",
       "    }\n",
       "</style>\n",
       "<table border=\"1\" class=\"dataframe\">\n",
       "  <thead>\n",
       "    <tr style=\"text-align: right;\">\n",
       "      <th></th>\n",
       "      <th>Severity</th>\n",
       "      <th>Start_Time</th>\n",
       "      <th>End_Time</th>\n",
       "      <th>Start_Lat</th>\n",
       "      <th>Start_Lng</th>\n",
       "      <th>End_Lat</th>\n",
       "      <th>End_Lng</th>\n",
       "      <th>Distance(mi)</th>\n",
       "      <th>Weather_Timestamp</th>\n",
       "      <th>Temperature(F)</th>\n",
       "      <th>Wind_Chill(F)</th>\n",
       "      <th>Humidity(%)</th>\n",
       "      <th>Pressure(in)</th>\n",
       "      <th>Visibility(mi)</th>\n",
       "      <th>Wind_Speed(mph)</th>\n",
       "      <th>Precipitation(in)</th>\n",
       "    </tr>\n",
       "  </thead>\n",
       "  <tbody>\n",
       "    <tr>\n",
       "      <th>count</th>\n",
       "      <td>7728394.000</td>\n",
       "      <td>6985228</td>\n",
       "      <td>6985228</td>\n",
       "      <td>7728394.000</td>\n",
       "      <td>7728394.000</td>\n",
       "      <td>4325632.000</td>\n",
       "      <td>4325632.000</td>\n",
       "      <td>7728394.000</td>\n",
       "      <td>7608166</td>\n",
       "      <td>7564541.000</td>\n",
       "      <td>5729375.000</td>\n",
       "      <td>7554250.000</td>\n",
       "      <td>7587715.000</td>\n",
       "      <td>7551296.000</td>\n",
       "      <td>7157161.000</td>\n",
       "      <td>5524808.000</td>\n",
       "    </tr>\n",
       "    <tr>\n",
       "      <th>mean</th>\n",
       "      <td>2.212</td>\n",
       "      <td>2020-03-21 21:49:59.056443136</td>\n",
       "      <td>2020-03-22 04:56:51.646936064</td>\n",
       "      <td>36.201</td>\n",
       "      <td>-94.703</td>\n",
       "      <td>36.262</td>\n",
       "      <td>-95.726</td>\n",
       "      <td>0.562</td>\n",
       "      <td>2020-06-02 10:06:41.888674560</td>\n",
       "      <td>61.663</td>\n",
       "      <td>58.251</td>\n",
       "      <td>64.831</td>\n",
       "      <td>29.539</td>\n",
       "      <td>9.090</td>\n",
       "      <td>7.685</td>\n",
       "      <td>0.008</td>\n",
       "    </tr>\n",
       "    <tr>\n",
       "      <th>min</th>\n",
       "      <td>1.000</td>\n",
       "      <td>2016-01-14 20:18:33</td>\n",
       "      <td>2016-02-08 06:37:08</td>\n",
       "      <td>24.555</td>\n",
       "      <td>-124.624</td>\n",
       "      <td>24.566</td>\n",
       "      <td>-124.546</td>\n",
       "      <td>0.000</td>\n",
       "      <td>2016-01-14 19:51:00</td>\n",
       "      <td>-89.000</td>\n",
       "      <td>-89.000</td>\n",
       "      <td>1.000</td>\n",
       "      <td>0.000</td>\n",
       "      <td>0.000</td>\n",
       "      <td>0.000</td>\n",
       "      <td>0.000</td>\n",
       "    </tr>\n",
       "    <tr>\n",
       "      <th>25%</th>\n",
       "      <td>2.000</td>\n",
       "      <td>2018-09-17 02:20:31.750000128</td>\n",
       "      <td>2018-09-17 05:23:37.500000</td>\n",
       "      <td>33.400</td>\n",
       "      <td>-117.219</td>\n",
       "      <td>33.462</td>\n",
       "      <td>-117.754</td>\n",
       "      <td>0.000</td>\n",
       "      <td>2018-11-20 18:35:00</td>\n",
       "      <td>49.000</td>\n",
       "      <td>43.000</td>\n",
       "      <td>48.000</td>\n",
       "      <td>29.370</td>\n",
       "      <td>10.000</td>\n",
       "      <td>4.600</td>\n",
       "      <td>0.000</td>\n",
       "    </tr>\n",
       "    <tr>\n",
       "      <th>50%</th>\n",
       "      <td>2.000</td>\n",
       "      <td>2020-06-23 13:37:23.500000</td>\n",
       "      <td>2020-06-23 15:20:42</td>\n",
       "      <td>35.824</td>\n",
       "      <td>-87.767</td>\n",
       "      <td>36.183</td>\n",
       "      <td>-88.028</td>\n",
       "      <td>0.030</td>\n",
       "      <td>2020-11-10 13:53:00</td>\n",
       "      <td>64.000</td>\n",
       "      <td>62.000</td>\n",
       "      <td>67.000</td>\n",
       "      <td>29.860</td>\n",
       "      <td>10.000</td>\n",
       "      <td>7.000</td>\n",
       "      <td>0.000</td>\n",
       "    </tr>\n",
       "    <tr>\n",
       "      <th>75%</th>\n",
       "      <td>2.000</td>\n",
       "      <td>2021-10-28 15:44:07</td>\n",
       "      <td>2021-10-29 14:57:46.500000</td>\n",
       "      <td>40.085</td>\n",
       "      <td>-80.354</td>\n",
       "      <td>40.179</td>\n",
       "      <td>-80.247</td>\n",
       "      <td>0.464</td>\n",
       "      <td>2022-01-19 14:27:00</td>\n",
       "      <td>76.000</td>\n",
       "      <td>75.000</td>\n",
       "      <td>84.000</td>\n",
       "      <td>30.030</td>\n",
       "      <td>10.000</td>\n",
       "      <td>10.400</td>\n",
       "      <td>0.000</td>\n",
       "    </tr>\n",
       "    <tr>\n",
       "      <th>max</th>\n",
       "      <td>4.000</td>\n",
       "      <td>2023-03-31 23:30:00</td>\n",
       "      <td>2023-03-31 23:59:00</td>\n",
       "      <td>49.002</td>\n",
       "      <td>-67.113</td>\n",
       "      <td>49.075</td>\n",
       "      <td>-67.109</td>\n",
       "      <td>441.750</td>\n",
       "      <td>2023-03-31 23:53:00</td>\n",
       "      <td>207.000</td>\n",
       "      <td>207.000</td>\n",
       "      <td>100.000</td>\n",
       "      <td>58.630</td>\n",
       "      <td>140.000</td>\n",
       "      <td>1087.000</td>\n",
       "      <td>36.470</td>\n",
       "    </tr>\n",
       "    <tr>\n",
       "      <th>std</th>\n",
       "      <td>0.488</td>\n",
       "      <td>NaN</td>\n",
       "      <td>NaN</td>\n",
       "      <td>5.076</td>\n",
       "      <td>17.392</td>\n",
       "      <td>5.273</td>\n",
       "      <td>18.108</td>\n",
       "      <td>1.777</td>\n",
       "      <td>NaN</td>\n",
       "      <td>19.014</td>\n",
       "      <td>22.390</td>\n",
       "      <td>22.821</td>\n",
       "      <td>1.006</td>\n",
       "      <td>2.688</td>\n",
       "      <td>5.425</td>\n",
       "      <td>0.110</td>\n",
       "    </tr>\n",
       "  </tbody>\n",
       "</table>\n",
       "</div>"
      ],
      "text/plain": [
       "         Severity                     Start_Time                       End_Time   Start_Lat   Start_Lng     End_Lat     End_Lng  Distance(mi)              Weather_Timestamp  Temperature(F)  Wind_Chill(F)  Humidity(%)  Pressure(in)  Visibility(mi)  Wind_Speed(mph)  Precipitation(in)\n",
       "count 7728394.000                        6985228                        6985228 7728394.000 7728394.000 4325632.000 4325632.000   7728394.000                        7608166     7564541.000    5729375.000  7554250.000   7587715.000     7551296.000      7157161.000        5524808.000\n",
       "mean        2.212  2020-03-21 21:49:59.056443136  2020-03-22 04:56:51.646936064      36.201     -94.703      36.262     -95.726         0.562  2020-06-02 10:06:41.888674560          61.663         58.251       64.831        29.539           9.090            7.685              0.008\n",
       "min         1.000            2016-01-14 20:18:33            2016-02-08 06:37:08      24.555    -124.624      24.566    -124.546         0.000            2016-01-14 19:51:00         -89.000        -89.000        1.000         0.000           0.000            0.000              0.000\n",
       "25%         2.000  2018-09-17 02:20:31.750000128     2018-09-17 05:23:37.500000      33.400    -117.219      33.462    -117.754         0.000            2018-11-20 18:35:00          49.000         43.000       48.000        29.370          10.000            4.600              0.000\n",
       "50%         2.000     2020-06-23 13:37:23.500000            2020-06-23 15:20:42      35.824     -87.767      36.183     -88.028         0.030            2020-11-10 13:53:00          64.000         62.000       67.000        29.860          10.000            7.000              0.000\n",
       "75%         2.000            2021-10-28 15:44:07     2021-10-29 14:57:46.500000      40.085     -80.354      40.179     -80.247         0.464            2022-01-19 14:27:00          76.000         75.000       84.000        30.030          10.000           10.400              0.000\n",
       "max         4.000            2023-03-31 23:30:00            2023-03-31 23:59:00      49.002     -67.113      49.075     -67.109       441.750            2023-03-31 23:53:00         207.000        207.000      100.000        58.630         140.000         1087.000             36.470\n",
       "std         0.488                            NaN                            NaN       5.076      17.392       5.273      18.108         1.777                            NaN          19.014         22.390       22.821         1.006           2.688            5.425              0.110"
      ]
     },
     "execution_count": 56,
     "metadata": {},
     "output_type": "execute_result"
    }
   ],
   "source": [
    "data.describe()"
   ]
  },
  {
   "cell_type": "code",
   "execution_count": 57,
   "id": "1f05e07a",
   "metadata": {},
   "outputs": [
    {
     "data": {
      "text/plain": [
       "Severity\n",
       "2   0.797\n",
       "3   0.168\n",
       "4   0.026\n",
       "1   0.009\n",
       "Name: proportion, dtype: float64"
      ]
     },
     "execution_count": 57,
     "metadata": {},
     "output_type": "execute_result"
    }
   ],
   "source": [
    "data['Severity'].value_counts(normalize=True)"
   ]
  },
  {
   "cell_type": "code",
   "execution_count": 58,
   "id": "39fbecbe",
   "metadata": {},
   "outputs": [
    {
     "name": "stderr",
     "output_type": "stream",
     "text": [
      "C:\\Users\\himek\\AppData\\Local\\Temp\\ipykernel_24652\\202875177.py:1: FutureWarning: \n",
      "\n",
      "Passing `palette` without assigning `hue` is deprecated and will be removed in v0.14.0. Assign the `x` variable to `hue` and set `legend=False` for the same effect.\n",
      "\n",
      "  sns.countplot(x='Severity',data=data,palette=\"pastel\")\n"
     ]
    },
    {
     "data": {
      "image/png": "[encoded data removed]",
      "text/plain": [
       "<Figure size 640x480 with 1 Axes>"
      ]
     },
     "metadata": {},
     "output_type": "display_data"
    }
   ],
   "source": [
    "sns.countplot(x='Severity',data=data,palette=\"pastel\")\n",
    "plt.title(\"Distribution of Accident Severity\")\n",
    "plt.xlabel(\"Severity (1: low - 4: high)\")\n",
    "plt.ylabel(\"Count\")\n",
    "plt.show()"
   ]
  },
  {
   "cell_type": "code",
   "execution_count": 59,
   "id": "ab355c14",
   "metadata": {},
   "outputs": [
    {
     "name": "stderr",
     "output_type": "stream",
     "text": [
      "C:\\Users\\himek\\AppData\\Local\\Temp\\ipykernel_24652\\669812445.py:2: FutureWarning: \n",
      "\n",
      "Passing `palette` without assigning `hue` is deprecated and will be removed in v0.14.0. Assign the `y` variable to `hue` and set `legend=False` for the same effect.\n",
      "\n",
      "  sns.barplot(x=a_cities.values,y=a_cities.index,palette=\"pastel\")\n"
     ]
    },
    {
     "data": {
      "image/png": "[encoded data removed]",
      "text/plain": [
       "<Figure size 640x480 with 1 Axes>"
      ]
     },
     "metadata": {},
     "output_type": "display_data"
    }
   ],
   "source": [
    "a_cities=data['City'].value_counts().head(10)\n",
    "sns.barplot(x=a_cities.values,y=a_cities.index,palette=\"pastel\")\n",
    "plt.title('Top 10 Cities with the Most Accidents')\n",
    "plt.xlabel('Number of Accidents')\n",
    "plt.show()"
   ]
  },
  {
   "cell_type": "code",
   "execution_count": 60,
   "id": "b2d10216",
   "metadata": {},
   "outputs": [
    {
     "data": {
      "image/png": "[encoded data removed]",
      "text/plain": [
       "<Figure size 640x480 with 1 Axes>"
      ]
     },
     "metadata": {},
     "output_type": "display_data"
    }
   ],
   "source": [
    "data['Hour']=data['Start_Time'].dt.hour\n",
    "sns.histplot(data['Hour'],bins=24,kde=False)\n",
    "plt.title('Hourly Distribution of Accidents')\n",
    "plt.xlabel('Hour')\n",
    "plt.show()"
   ]
  },
  {
   "cell_type": "code",
   "execution_count": 61,
   "id": "ec4e6faa",
   "metadata": {},
   "outputs": [
    {
     "name": "stderr",
     "output_type": "stream",
     "text": [
      "C:\\Users\\himek\\AppData\\Local\\Temp\\ipykernel_24652\\772549148.py:2: FutureWarning: \n",
      "\n",
      "Passing `palette` without assigning `hue` is deprecated and will be removed in v0.14.0. Assign the `x` variable to `hue` and set `legend=False` for the same effect.\n",
      "\n",
      "  sns.countplot(data=data, x='Weekday',order=['Monday','Tuesday','Wednesday','Thursday','Friday','Saturday','Sunday'],palette=\"viridis\")\n"
     ]
    },
    {
     "data": {
      "image/png": "[encoded data removed]",
      "text/plain": [
       "<Figure size 640x480 with 1 Axes>"
      ]
     },
     "metadata": {},
     "output_type": "display_data"
    }
   ],
   "source": [
    "data['Weekday']=data['Start_Time'].dt.day_name()\n",
    "sns.countplot(data=data, x='Weekday',order=['Monday','Tuesday','Wednesday','Thursday','Friday','Saturday','Sunday'],palette=\"viridis\")\n",
    "plt.title('Number of Accidents by Day of the Week')\n",
    "plt.show()"
   ]
  },
  {
   "cell_type": "code",
   "execution_count": 62,
   "id": "51f997a5",
   "metadata": {},
   "outputs": [
    {
     "data": {
      "image/png": "[encoded data removed]",
      "text/plain": [
       "<Figure size 640x480 with 1 Axes>"
      ]
     },
     "metadata": {},
     "output_type": "display_data"
    }
   ],
   "source": [
    "data['Weather_Condition'].value_counts().head(10).plot(kind='barh')\n",
    "plt.title(\"Most Common Weather Conditions\")\n",
    "plt.show()"
   ]
  },
  {
   "cell_type": "code",
   "execution_count": 63,
   "id": "87c1f9b7",
   "metadata": {},
   "outputs": [
    {
     "data": {
      "image/png": "[encoded data removed]",
      "text/plain": [
       "<Figure size 1000x600 with 2 Axes>"
      ]
     },
     "metadata": {},
     "output_type": "display_data"
    }
   ],
   "source": [
    "cols=['Severity','Temperature(F)','Humidity(%)','Visibility(mi)','Wind_Speed(mph)']\n",
    "plt.figure(figsize=(10,6))\n",
    "sns.heatmap(data[cols].corr(),annot=True,cmap='coolwarm')\n",
    "plt.title(\"Confusion Matrix\")\n",
    "plt.show()"
   ]
  },
  {
   "cell_type": "code",
   "execution_count": 64,
   "id": "f626e5d6",
   "metadata": {},
   "outputs": [],
   "source": [
    "def grab_col_names (dataframe, cat_trh=10, car_thr=20):\n",
    "    cat_cols= [col for  col in dataframe.columns if dataframe[col].dtype =='O']\n",
    "    num_but_cat=[col for col in dataframe.columns if dataframe[col].nunique() < cat_trh and dataframe[col].dtype != 'O']\n",
    "    cat_but_car = [col for col in dataframe.columns if dataframe[col].nunique() > car_thr and dataframe[col].dtypes == \"O\"]\n",
    "    cat_cols = cat_cols + num_but_cat\n",
    "    cat_cols = [col for col in cat_cols if col not in cat_but_car]\n",
    "\n",
    "    num_cols= [col for col in  dataframe.columns if dataframe[col].dtype != 'O']\n",
    "    num_cols = [col for col in num_cols if col not in num_but_cat]\n",
    "\n",
    "    return cat_cols, num_cols, cat_but_car\n",
    "\n",
    "cat_cols, num_cols, cat_but_car = grab_col_names(data)"
   ]
  },
  {
   "cell_type": "code",
   "execution_count": 65,
   "id": "89da78ae",
   "metadata": {},
   "outputs": [
    {
     "name": "stdout",
     "output_type": "stream",
     "text": [
      "Weather_Condition\n",
      "Fair                         2560802\n",
      "Mostly Cloudy                1016195\n",
      "Cloudy                        817082\n",
      "Clear                         808743\n",
      "Partly Cloudy                 698972\n",
      "                              ...   \n",
      "Heavy Sleet / Windy                1\n",
      "Sand / Windy                       1\n",
      "Heavy Rain Shower / Windy          1\n",
      "Blowing Snow Nearby                1\n",
      "Drifting Snow                      1\n",
      "Name: count, Length: 144, dtype: int64\n"
     ]
    }
   ],
   "source": [
    "print(data['Weather_Condition'].value_counts())"
   ]
  },
  {
   "cell_type": "code",
   "execution_count": 66,
   "id": "ce9a29f3",
   "metadata": {},
   "outputs": [],
   "source": [
    "def group_weather(condition):\n",
    "    if pd.isnull(condition):\n",
    "        return 'Unknown'\n",
    "    condition=condition.lower()\n",
    "    if 'rain' in condition or 'storm' in condition:\n",
    "        return 'Rainy'\n",
    "    elif 'snow' in condition or 'ice' in condition:\n",
    "        return 'Snowy'\n",
    "    elif 'cloud' in condition or 'overcast' in condition:\n",
    "        return 'Cloudy'\n",
    "    elif 'fog' in condition or 'haze' in condition:\n",
    "        return 'Foggy'\n",
    "    elif 'clear' in condition or 'fair' in condition:\n",
    "        return 'Clear'\n",
    "    else:\n",
    "        return 'Other'\n",
    "\n",
    "data['Weather_Condition']=data['Weather_Condition'].apply(group_weather)"
   ]
  },
  {
   "cell_type": "code",
   "execution_count": 67,
   "id": "bae0e858",
   "metadata": {},
   "outputs": [],
   "source": [
    "a_states=data['State'].value_counts().nlargest(10).index\n",
    "data['a_states']=data['State'].apply(lambda x:x if x in a_states else 'Other')"
   ]
  },
  {
   "cell_type": "code",
   "execution_count": 68,
   "id": "a75041bf",
   "metadata": {},
   "outputs": [],
   "source": [
    "data=data.drop(['ID', 'Source', 'Description', 'Street','Country','Zipcode', 'Airport_Code','City','County','End_Time','Timezone'],axis=1)"
   ]
  },
  {
   "cell_type": "code",
   "execution_count": 69,
   "id": "952a2e0f",
   "metadata": {},
   "outputs": [],
   "source": [
    "def outlier_thresholds(dataframe, col_name, q1=0.25, q3=0.75):\n",
    "    quartile1 = dataframe[col_name].quantile(q1)\n",
    "    quartile3 = dataframe[col_name].quantile(q3)\n",
    "    interquantile_range = quartile3 - quartile1\n",
    "    up_limit = quartile3 + 1.5 * interquantile_range\n",
    "    low_limit = quartile1 - 1.5 * interquantile_range\n",
    "    return low_limit, up_limit"
   ]
  },
  {
   "cell_type": "code",
   "execution_count": 70,
   "id": "8246a9c9",
   "metadata": {},
   "outputs": [],
   "source": [
    "def check_outlier(dataframe, col_name):\n",
    "    low_limit, up_limit = outlier_thresholds(dataframe, col_name)\n",
    "    if dataframe[(dataframe[col_name] > up_limit) | (dataframe[col_name] < low_limit)].any(axis=None):\n",
    "        return True\n",
    "    else:\n",
    "        return False"
   ]
  },
  {
   "cell_type": "code",
   "execution_count": 71,
   "id": "15aa90bb",
   "metadata": {},
   "outputs": [],
   "source": [
    "cat_cols, num_cols, cat_but_car = grab_col_names(data)"
   ]
  },
  {
   "cell_type": "code",
   "execution_count": 72,
   "id": "a22a6126",
   "metadata": {},
   "outputs": [
    {
     "name": "stderr",
     "output_type": "stream",
     "text": [
      "C:\\Users\\himek\\AppData\\Local\\Temp\\ipykernel_24652\\4129770718.py:3: FutureWarning: 'any' with datetime64 dtypes is deprecated and will raise in a future version. Use (obj != pd.Timestamp(0)).any() instead.\n",
      "  if dataframe[(dataframe[col_name] > up_limit) | (dataframe[col_name] < low_limit)].any(axis=None):\n",
      "C:\\Users\\himek\\AppData\\Local\\Temp\\ipykernel_24652\\4129770718.py:3: FutureWarning: 'any' with datetime64 dtypes is deprecated and will raise in a future version. Use (obj != pd.Timestamp(0)).any() instead.\n",
      "  if dataframe[(dataframe[col_name] > up_limit) | (dataframe[col_name] < low_limit)].any(axis=None):\n"
     ]
    },
    {
     "name": "stdout",
     "output_type": "stream",
     "text": [
      "Start_Time False\n",
      "Start_Lat False\n"
     ]
    },
    {
     "name": "stderr",
     "output_type": "stream",
     "text": [
      "C:\\Users\\himek\\AppData\\Local\\Temp\\ipykernel_24652\\4129770718.py:3: FutureWarning: 'any' with datetime64 dtypes is deprecated and will raise in a future version. Use (obj != pd.Timestamp(0)).any() instead.\n",
      "  if dataframe[(dataframe[col_name] > up_limit) | (dataframe[col_name] < low_limit)].any(axis=None):\n",
      "C:\\Users\\himek\\AppData\\Local\\Temp\\ipykernel_24652\\4129770718.py:3: FutureWarning: 'any' with datetime64 dtypes is deprecated and will raise in a future version. Use (obj != pd.Timestamp(0)).any() instead.\n",
      "  if dataframe[(dataframe[col_name] > up_limit) | (dataframe[col_name] < low_limit)].any(axis=None):\n"
     ]
    },
    {
     "name": "stdout",
     "output_type": "stream",
     "text": [
      "Start_Lng False\n",
      "End_Lat False\n"
     ]
    },
    {
     "name": "stderr",
     "output_type": "stream",
     "text": [
      "C:\\Users\\himek\\AppData\\Local\\Temp\\ipykernel_24652\\4129770718.py:3: FutureWarning: 'any' with datetime64 dtypes is deprecated and will raise in a future version. Use (obj != pd.Timestamp(0)).any() instead.\n",
      "  if dataframe[(dataframe[col_name] > up_limit) | (dataframe[col_name] < low_limit)].any(axis=None):\n"
     ]
    },
    {
     "name": "stdout",
     "output_type": "stream",
     "text": [
      "End_Lng False\n"
     ]
    },
    {
     "name": "stderr",
     "output_type": "stream",
     "text": [
      "C:\\Users\\himek\\AppData\\Local\\Temp\\ipykernel_24652\\4129770718.py:3: FutureWarning: 'any' with datetime64 dtypes is deprecated and will raise in a future version. Use (obj != pd.Timestamp(0)).any() instead.\n",
      "  if dataframe[(dataframe[col_name] > up_limit) | (dataframe[col_name] < low_limit)].any(axis=None):\n"
     ]
    },
    {
     "name": "stdout",
     "output_type": "stream",
     "text": [
      "Distance(mi) True\n"
     ]
    },
    {
     "name": "stderr",
     "output_type": "stream",
     "text": [
      "C:\\Users\\himek\\AppData\\Local\\Temp\\ipykernel_24652\\4129770718.py:3: FutureWarning: 'any' with datetime64 dtypes is deprecated and will raise in a future version. Use (obj != pd.Timestamp(0)).any() instead.\n",
      "  if dataframe[(dataframe[col_name] > up_limit) | (dataframe[col_name] < low_limit)].any(axis=None):\n"
     ]
    },
    {
     "name": "stdout",
     "output_type": "stream",
     "text": [
      "Weather_Timestamp False\n"
     ]
    },
    {
     "name": "stderr",
     "output_type": "stream",
     "text": [
      "C:\\Users\\himek\\AppData\\Local\\Temp\\ipykernel_24652\\4129770718.py:3: FutureWarning: 'any' with datetime64 dtypes is deprecated and will raise in a future version. Use (obj != pd.Timestamp(0)).any() instead.\n",
      "  if dataframe[(dataframe[col_name] > up_limit) | (dataframe[col_name] < low_limit)].any(axis=None):\n"
     ]
    },
    {
     "name": "stdout",
     "output_type": "stream",
     "text": [
      "Temperature(F) True\n"
     ]
    },
    {
     "name": "stderr",
     "output_type": "stream",
     "text": [
      "C:\\Users\\himek\\AppData\\Local\\Temp\\ipykernel_24652\\4129770718.py:3: FutureWarning: 'any' with datetime64 dtypes is deprecated and will raise in a future version. Use (obj != pd.Timestamp(0)).any() instead.\n",
      "  if dataframe[(dataframe[col_name] > up_limit) | (dataframe[col_name] < low_limit)].any(axis=None):\n"
     ]
    },
    {
     "name": "stdout",
     "output_type": "stream",
     "text": [
      "Wind_Chill(F) True\n"
     ]
    },
    {
     "name": "stderr",
     "output_type": "stream",
     "text": [
      "C:\\Users\\himek\\AppData\\Local\\Temp\\ipykernel_24652\\4129770718.py:3: FutureWarning: 'any' with datetime64 dtypes is deprecated and will raise in a future version. Use (obj != pd.Timestamp(0)).any() instead.\n",
      "  if dataframe[(dataframe[col_name] > up_limit) | (dataframe[col_name] < low_limit)].any(axis=None):\n"
     ]
    },
    {
     "name": "stdout",
     "output_type": "stream",
     "text": [
      "Humidity(%) False\n"
     ]
    },
    {
     "name": "stderr",
     "output_type": "stream",
     "text": [
      "C:\\Users\\himek\\AppData\\Local\\Temp\\ipykernel_24652\\4129770718.py:3: FutureWarning: 'any' with datetime64 dtypes is deprecated and will raise in a future version. Use (obj != pd.Timestamp(0)).any() instead.\n",
      "  if dataframe[(dataframe[col_name] > up_limit) | (dataframe[col_name] < low_limit)].any(axis=None):\n"
     ]
    },
    {
     "name": "stdout",
     "output_type": "stream",
     "text": [
      "Pressure(in) True\n"
     ]
    },
    {
     "name": "stderr",
     "output_type": "stream",
     "text": [
      "C:\\Users\\himek\\AppData\\Local\\Temp\\ipykernel_24652\\4129770718.py:3: FutureWarning: 'any' with datetime64 dtypes is deprecated and will raise in a future version. Use (obj != pd.Timestamp(0)).any() instead.\n",
      "  if dataframe[(dataframe[col_name] > up_limit) | (dataframe[col_name] < low_limit)].any(axis=None):\n"
     ]
    },
    {
     "name": "stdout",
     "output_type": "stream",
     "text": [
      "Visibility(mi) True\n"
     ]
    },
    {
     "name": "stderr",
     "output_type": "stream",
     "text": [
      "C:\\Users\\himek\\AppData\\Local\\Temp\\ipykernel_24652\\4129770718.py:3: FutureWarning: 'any' with datetime64 dtypes is deprecated and will raise in a future version. Use (obj != pd.Timestamp(0)).any() instead.\n",
      "  if dataframe[(dataframe[col_name] > up_limit) | (dataframe[col_name] < low_limit)].any(axis=None):\n"
     ]
    },
    {
     "name": "stdout",
     "output_type": "stream",
     "text": [
      "Wind_Speed(mph) True\n"
     ]
    },
    {
     "name": "stderr",
     "output_type": "stream",
     "text": [
      "C:\\Users\\himek\\AppData\\Local\\Temp\\ipykernel_24652\\4129770718.py:3: FutureWarning: 'any' with datetime64 dtypes is deprecated and will raise in a future version. Use (obj != pd.Timestamp(0)).any() instead.\n",
      "  if dataframe[(dataframe[col_name] > up_limit) | (dataframe[col_name] < low_limit)].any(axis=None):\n"
     ]
    },
    {
     "name": "stdout",
     "output_type": "stream",
     "text": [
      "Precipitation(in) True\n",
      "Hour False\n"
     ]
    },
    {
     "name": "stderr",
     "output_type": "stream",
     "text": [
      "C:\\Users\\himek\\AppData\\Local\\Temp\\ipykernel_24652\\4129770718.py:3: FutureWarning: 'any' with datetime64 dtypes is deprecated and will raise in a future version. Use (obj != pd.Timestamp(0)).any() instead.\n",
      "  if dataframe[(dataframe[col_name] > up_limit) | (dataframe[col_name] < low_limit)].any(axis=None):\n"
     ]
    }
   ],
   "source": [
    "for col in num_cols:\n",
    "    print(col, check_outlier(data, col))"
   ]
  },
  {
   "cell_type": "code",
   "execution_count": 73,
   "id": "062a47d3",
   "metadata": {},
   "outputs": [],
   "source": [
    "def remove_outlier(dataframe, col_name):\n",
    "    low_limit, up_limit = outlier_thresholds(dataframe, col_name)\n",
    "    df_without_outliers = dataframe[~((dataframe[col_name] < low_limit) | (dataframe[col_name] > up_limit))]\n",
    "    return df_without_outliers"
   ]
  },
  {
   "cell_type": "code",
   "execution_count": 74,
   "id": "32fe73a8",
   "metadata": {},
   "outputs": [],
   "source": [
    "for col in num_cols:\n",
    "    data = remove_outlier(data, col)"
   ]
  },
  {
   "cell_type": "code",
   "execution_count": 75,
   "id": "95bca786",
   "metadata": {},
   "outputs": [
    {
     "name": "stderr",
     "output_type": "stream",
     "text": [
      "C:\\Users\\himek\\AppData\\Local\\Temp\\ipykernel_24652\\4129770718.py:3: FutureWarning: 'any' with datetime64 dtypes is deprecated and will raise in a future version. Use (obj != pd.Timestamp(0)).any() instead.\n",
      "  if dataframe[(dataframe[col_name] > up_limit) | (dataframe[col_name] < low_limit)].any(axis=None):\n"
     ]
    },
    {
     "name": "stdout",
     "output_type": "stream",
     "text": [
      "Start_Time False\n"
     ]
    },
    {
     "name": "stderr",
     "output_type": "stream",
     "text": [
      "C:\\Users\\himek\\AppData\\Local\\Temp\\ipykernel_24652\\4129770718.py:3: FutureWarning: 'any' with datetime64 dtypes is deprecated and will raise in a future version. Use (obj != pd.Timestamp(0)).any() instead.\n",
      "  if dataframe[(dataframe[col_name] > up_limit) | (dataframe[col_name] < low_limit)].any(axis=None):\n"
     ]
    },
    {
     "name": "stdout",
     "output_type": "stream",
     "text": [
      "Start_Lat False\n"
     ]
    },
    {
     "name": "stderr",
     "output_type": "stream",
     "text": [
      "C:\\Users\\himek\\AppData\\Local\\Temp\\ipykernel_24652\\4129770718.py:3: FutureWarning: 'any' with datetime64 dtypes is deprecated and will raise in a future version. Use (obj != pd.Timestamp(0)).any() instead.\n",
      "  if dataframe[(dataframe[col_name] > up_limit) | (dataframe[col_name] < low_limit)].any(axis=None):\n"
     ]
    },
    {
     "name": "stdout",
     "output_type": "stream",
     "text": [
      "Start_Lng False\n"
     ]
    },
    {
     "name": "stderr",
     "output_type": "stream",
     "text": [
      "C:\\Users\\himek\\AppData\\Local\\Temp\\ipykernel_24652\\4129770718.py:3: FutureWarning: 'any' with datetime64 dtypes is deprecated and will raise in a future version. Use (obj != pd.Timestamp(0)).any() instead.\n",
      "  if dataframe[(dataframe[col_name] > up_limit) | (dataframe[col_name] < low_limit)].any(axis=None):\n"
     ]
    },
    {
     "name": "stdout",
     "output_type": "stream",
     "text": [
      "End_Lat False\n"
     ]
    },
    {
     "name": "stderr",
     "output_type": "stream",
     "text": [
      "C:\\Users\\himek\\AppData\\Local\\Temp\\ipykernel_24652\\4129770718.py:3: FutureWarning: 'any' with datetime64 dtypes is deprecated and will raise in a future version. Use (obj != pd.Timestamp(0)).any() instead.\n",
      "  if dataframe[(dataframe[col_name] > up_limit) | (dataframe[col_name] < low_limit)].any(axis=None):\n"
     ]
    },
    {
     "name": "stdout",
     "output_type": "stream",
     "text": [
      "End_Lng False\n"
     ]
    },
    {
     "name": "stderr",
     "output_type": "stream",
     "text": [
      "C:\\Users\\himek\\AppData\\Local\\Temp\\ipykernel_24652\\4129770718.py:3: FutureWarning: 'any' with datetime64 dtypes is deprecated and will raise in a future version. Use (obj != pd.Timestamp(0)).any() instead.\n",
      "  if dataframe[(dataframe[col_name] > up_limit) | (dataframe[col_name] < low_limit)].any(axis=None):\n"
     ]
    },
    {
     "name": "stdout",
     "output_type": "stream",
     "text": [
      "Distance(mi) True\n"
     ]
    },
    {
     "name": "stderr",
     "output_type": "stream",
     "text": [
      "C:\\Users\\himek\\AppData\\Local\\Temp\\ipykernel_24652\\4129770718.py:3: FutureWarning: 'any' with datetime64 dtypes is deprecated and will raise in a future version. Use (obj != pd.Timestamp(0)).any() instead.\n",
      "  if dataframe[(dataframe[col_name] > up_limit) | (dataframe[col_name] < low_limit)].any(axis=None):\n"
     ]
    },
    {
     "name": "stdout",
     "output_type": "stream",
     "text": [
      "Weather_Timestamp False\n"
     ]
    },
    {
     "name": "stderr",
     "output_type": "stream",
     "text": [
      "C:\\Users\\himek\\AppData\\Local\\Temp\\ipykernel_24652\\4129770718.py:3: FutureWarning: 'any' with datetime64 dtypes is deprecated and will raise in a future version. Use (obj != pd.Timestamp(0)).any() instead.\n",
      "  if dataframe[(dataframe[col_name] > up_limit) | (dataframe[col_name] < low_limit)].any(axis=None):\n"
     ]
    },
    {
     "name": "stdout",
     "output_type": "stream",
     "text": [
      "Temperature(F) True\n"
     ]
    },
    {
     "name": "stderr",
     "output_type": "stream",
     "text": [
      "C:\\Users\\himek\\AppData\\Local\\Temp\\ipykernel_24652\\4129770718.py:3: FutureWarning: 'any' with datetime64 dtypes is deprecated and will raise in a future version. Use (obj != pd.Timestamp(0)).any() instead.\n",
      "  if dataframe[(dataframe[col_name] > up_limit) | (dataframe[col_name] < low_limit)].any(axis=None):\n"
     ]
    },
    {
     "name": "stdout",
     "output_type": "stream",
     "text": [
      "Wind_Chill(F) True\n"
     ]
    },
    {
     "name": "stderr",
     "output_type": "stream",
     "text": [
      "C:\\Users\\himek\\AppData\\Local\\Temp\\ipykernel_24652\\4129770718.py:3: FutureWarning: 'any' with datetime64 dtypes is deprecated and will raise in a future version. Use (obj != pd.Timestamp(0)).any() instead.\n",
      "  if dataframe[(dataframe[col_name] > up_limit) | (dataframe[col_name] < low_limit)].any(axis=None):\n"
     ]
    },
    {
     "name": "stdout",
     "output_type": "stream",
     "text": [
      "Humidity(%) False\n"
     ]
    },
    {
     "name": "stderr",
     "output_type": "stream",
     "text": [
      "C:\\Users\\himek\\AppData\\Local\\Temp\\ipykernel_24652\\4129770718.py:3: FutureWarning: 'any' with datetime64 dtypes is deprecated and will raise in a future version. Use (obj != pd.Timestamp(0)).any() instead.\n",
      "  if dataframe[(dataframe[col_name] > up_limit) | (dataframe[col_name] < low_limit)].any(axis=None):\n"
     ]
    },
    {
     "name": "stdout",
     "output_type": "stream",
     "text": [
      "Pressure(in) True\n"
     ]
    },
    {
     "name": "stderr",
     "output_type": "stream",
     "text": [
      "C:\\Users\\himek\\AppData\\Local\\Temp\\ipykernel_24652\\4129770718.py:3: FutureWarning: 'any' with datetime64 dtypes is deprecated and will raise in a future version. Use (obj != pd.Timestamp(0)).any() instead.\n",
      "  if dataframe[(dataframe[col_name] > up_limit) | (dataframe[col_name] < low_limit)].any(axis=None):\n"
     ]
    },
    {
     "name": "stdout",
     "output_type": "stream",
     "text": [
      "Visibility(mi) False\n"
     ]
    },
    {
     "name": "stderr",
     "output_type": "stream",
     "text": [
      "C:\\Users\\himek\\AppData\\Local\\Temp\\ipykernel_24652\\4129770718.py:3: FutureWarning: 'any' with datetime64 dtypes is deprecated and will raise in a future version. Use (obj != pd.Timestamp(0)).any() instead.\n",
      "  if dataframe[(dataframe[col_name] > up_limit) | (dataframe[col_name] < low_limit)].any(axis=None):\n"
     ]
    },
    {
     "name": "stdout",
     "output_type": "stream",
     "text": [
      "Wind_Speed(mph) True\n"
     ]
    },
    {
     "name": "stderr",
     "output_type": "stream",
     "text": [
      "C:\\Users\\himek\\AppData\\Local\\Temp\\ipykernel_24652\\4129770718.py:3: FutureWarning: 'any' with datetime64 dtypes is deprecated and will raise in a future version. Use (obj != pd.Timestamp(0)).any() instead.\n",
      "  if dataframe[(dataframe[col_name] > up_limit) | (dataframe[col_name] < low_limit)].any(axis=None):\n"
     ]
    },
    {
     "name": "stdout",
     "output_type": "stream",
     "text": [
      "Precipitation(in) False\n",
      "Hour False\n"
     ]
    },
    {
     "name": "stderr",
     "output_type": "stream",
     "text": [
      "C:\\Users\\himek\\AppData\\Local\\Temp\\ipykernel_24652\\4129770718.py:3: FutureWarning: 'any' with datetime64 dtypes is deprecated and will raise in a future version. Use (obj != pd.Timestamp(0)).any() instead.\n",
      "  if dataframe[(dataframe[col_name] > up_limit) | (dataframe[col_name] < low_limit)].any(axis=None):\n"
     ]
    }
   ],
   "source": [
    "for col in num_cols:\n",
    "    print(col, check_outlier(data, col))"
   ]
  },
  {
   "cell_type": "code",
   "execution_count": 76,
   "id": "0e1e2a44",
   "metadata": {},
   "outputs": [],
   "source": [
    "def replace_with_thresholds(dataframe, variable):\n",
    "    low_limit, up_limit = outlier_thresholds(dataframe, variable)\n",
    "    dataframe.loc[(dataframe[variable] < low_limit), variable] = low_limit\n",
    "    dataframe.loc[(dataframe[variable] > up_limit), variable] = up_limit"
   ]
  },
  {
   "cell_type": "code",
   "execution_count": 77,
   "id": "203579f5",
   "metadata": {},
   "outputs": [],
   "source": [
    "for col in num_cols:\n",
    "    replace_with_thresholds(data, col)"
   ]
  },
  {
   "cell_type": "code",
   "execution_count": 78,
   "id": "15e35cf3",
   "metadata": {},
   "outputs": [
    {
     "name": "stderr",
     "output_type": "stream",
     "text": [
      "C:\\Users\\himek\\AppData\\Local\\Temp\\ipykernel_24652\\4129770718.py:3: FutureWarning: 'any' with datetime64 dtypes is deprecated and will raise in a future version. Use (obj != pd.Timestamp(0)).any() instead.\n",
      "  if dataframe[(dataframe[col_name] > up_limit) | (dataframe[col_name] < low_limit)].any(axis=None):\n"
     ]
    },
    {
     "name": "stdout",
     "output_type": "stream",
     "text": [
      "Start_Time False\n"
     ]
    },
    {
     "name": "stderr",
     "output_type": "stream",
     "text": [
      "C:\\Users\\himek\\AppData\\Local\\Temp\\ipykernel_24652\\4129770718.py:3: FutureWarning: 'any' with datetime64 dtypes is deprecated and will raise in a future version. Use (obj != pd.Timestamp(0)).any() instead.\n",
      "  if dataframe[(dataframe[col_name] > up_limit) | (dataframe[col_name] < low_limit)].any(axis=None):\n"
     ]
    },
    {
     "name": "stdout",
     "output_type": "stream",
     "text": [
      "Start_Lat False\n"
     ]
    },
    {
     "name": "stderr",
     "output_type": "stream",
     "text": [
      "C:\\Users\\himek\\AppData\\Local\\Temp\\ipykernel_24652\\4129770718.py:3: FutureWarning: 'any' with datetime64 dtypes is deprecated and will raise in a future version. Use (obj != pd.Timestamp(0)).any() instead.\n",
      "  if dataframe[(dataframe[col_name] > up_limit) | (dataframe[col_name] < low_limit)].any(axis=None):\n",
      "C:\\Users\\himek\\AppData\\Local\\Temp\\ipykernel_24652\\4129770718.py:3: FutureWarning: 'any' with datetime64 dtypes is deprecated and will raise in a future version. Use (obj != pd.Timestamp(0)).any() instead.\n",
      "  if dataframe[(dataframe[col_name] > up_limit) | (dataframe[col_name] < low_limit)].any(axis=None):\n"
     ]
    },
    {
     "name": "stdout",
     "output_type": "stream",
     "text": [
      "Start_Lng False\n",
      "End_Lat False\n"
     ]
    },
    {
     "name": "stderr",
     "output_type": "stream",
     "text": [
      "C:\\Users\\himek\\AppData\\Local\\Temp\\ipykernel_24652\\4129770718.py:3: FutureWarning: 'any' with datetime64 dtypes is deprecated and will raise in a future version. Use (obj != pd.Timestamp(0)).any() instead.\n",
      "  if dataframe[(dataframe[col_name] > up_limit) | (dataframe[col_name] < low_limit)].any(axis=None):\n"
     ]
    },
    {
     "name": "stdout",
     "output_type": "stream",
     "text": [
      "End_Lng False\n"
     ]
    },
    {
     "name": "stderr",
     "output_type": "stream",
     "text": [
      "C:\\Users\\himek\\AppData\\Local\\Temp\\ipykernel_24652\\4129770718.py:3: FutureWarning: 'any' with datetime64 dtypes is deprecated and will raise in a future version. Use (obj != pd.Timestamp(0)).any() instead.\n",
      "  if dataframe[(dataframe[col_name] > up_limit) | (dataframe[col_name] < low_limit)].any(axis=None):\n"
     ]
    },
    {
     "name": "stdout",
     "output_type": "stream",
     "text": [
      "Distance(mi) False\n"
     ]
    },
    {
     "name": "stderr",
     "output_type": "stream",
     "text": [
      "C:\\Users\\himek\\AppData\\Local\\Temp\\ipykernel_24652\\4129770718.py:3: FutureWarning: 'any' with datetime64 dtypes is deprecated and will raise in a future version. Use (obj != pd.Timestamp(0)).any() instead.\n",
      "  if dataframe[(dataframe[col_name] > up_limit) | (dataframe[col_name] < low_limit)].any(axis=None):\n"
     ]
    },
    {
     "name": "stdout",
     "output_type": "stream",
     "text": [
      "Weather_Timestamp False\n"
     ]
    },
    {
     "name": "stderr",
     "output_type": "stream",
     "text": [
      "C:\\Users\\himek\\AppData\\Local\\Temp\\ipykernel_24652\\4129770718.py:3: FutureWarning: 'any' with datetime64 dtypes is deprecated and will raise in a future version. Use (obj != pd.Timestamp(0)).any() instead.\n",
      "  if dataframe[(dataframe[col_name] > up_limit) | (dataframe[col_name] < low_limit)].any(axis=None):\n",
      "C:\\Users\\himek\\AppData\\Local\\Temp\\ipykernel_24652\\4129770718.py:3: FutureWarning: 'any' with datetime64 dtypes is deprecated and will raise in a future version. Use (obj != pd.Timestamp(0)).any() instead.\n",
      "  if dataframe[(dataframe[col_name] > up_limit) | (dataframe[col_name] < low_limit)].any(axis=None):\n"
     ]
    },
    {
     "name": "stdout",
     "output_type": "stream",
     "text": [
      "Temperature(F) False\n",
      "Wind_Chill(F) False\n"
     ]
    },
    {
     "name": "stderr",
     "output_type": "stream",
     "text": [
      "C:\\Users\\himek\\AppData\\Local\\Temp\\ipykernel_24652\\4129770718.py:3: FutureWarning: 'any' with datetime64 dtypes is deprecated and will raise in a future version. Use (obj != pd.Timestamp(0)).any() instead.\n",
      "  if dataframe[(dataframe[col_name] > up_limit) | (dataframe[col_name] < low_limit)].any(axis=None):\n"
     ]
    },
    {
     "name": "stdout",
     "output_type": "stream",
     "text": [
      "Humidity(%) False\n"
     ]
    },
    {
     "name": "stderr",
     "output_type": "stream",
     "text": [
      "C:\\Users\\himek\\AppData\\Local\\Temp\\ipykernel_24652\\4129770718.py:3: FutureWarning: 'any' with datetime64 dtypes is deprecated and will raise in a future version. Use (obj != pd.Timestamp(0)).any() instead.\n",
      "  if dataframe[(dataframe[col_name] > up_limit) | (dataframe[col_name] < low_limit)].any(axis=None):\n",
      "C:\\Users\\himek\\AppData\\Local\\Temp\\ipykernel_24652\\4129770718.py:3: FutureWarning: 'any' with datetime64 dtypes is deprecated and will raise in a future version. Use (obj != pd.Timestamp(0)).any() instead.\n",
      "  if dataframe[(dataframe[col_name] > up_limit) | (dataframe[col_name] < low_limit)].any(axis=None):\n"
     ]
    },
    {
     "name": "stdout",
     "output_type": "stream",
     "text": [
      "Pressure(in) False\n",
      "Visibility(mi) False\n"
     ]
    },
    {
     "name": "stderr",
     "output_type": "stream",
     "text": [
      "C:\\Users\\himek\\AppData\\Local\\Temp\\ipykernel_24652\\4129770718.py:3: FutureWarning: 'any' with datetime64 dtypes is deprecated and will raise in a future version. Use (obj != pd.Timestamp(0)).any() instead.\n",
      "  if dataframe[(dataframe[col_name] > up_limit) | (dataframe[col_name] < low_limit)].any(axis=None):\n",
      "C:\\Users\\himek\\AppData\\Local\\Temp\\ipykernel_24652\\4129770718.py:3: FutureWarning: 'any' with datetime64 dtypes is deprecated and will raise in a future version. Use (obj != pd.Timestamp(0)).any() instead.\n",
      "  if dataframe[(dataframe[col_name] > up_limit) | (dataframe[col_name] < low_limit)].any(axis=None):\n"
     ]
    },
    {
     "name": "stdout",
     "output_type": "stream",
     "text": [
      "Wind_Speed(mph) False\n",
      "Precipitation(in) False\n",
      "Hour False\n"
     ]
    },
    {
     "name": "stderr",
     "output_type": "stream",
     "text": [
      "C:\\Users\\himek\\AppData\\Local\\Temp\\ipykernel_24652\\4129770718.py:3: FutureWarning: 'any' with datetime64 dtypes is deprecated and will raise in a future version. Use (obj != pd.Timestamp(0)).any() instead.\n",
      "  if dataframe[(dataframe[col_name] > up_limit) | (dataframe[col_name] < low_limit)].any(axis=None):\n"
     ]
    }
   ],
   "source": [
    "for col in num_cols:\n",
    "    print(col, check_outlier(data, col))"
   ]
  },
  {
   "cell_type": "code",
   "execution_count": 79,
   "id": "fe7d26e1",
   "metadata": {},
   "outputs": [
    {
     "data": {
      "text/plain": [
       "Severity                       0\n",
       "Start_Time                417388\n",
       "Start_Lat                      0\n",
       "Start_Lng                      0\n",
       "End_Lat                  2399035\n",
       "End_Lng                  2399035\n",
       "Distance(mi)                   0\n",
       "State                          0\n",
       "Weather_Timestamp          98663\n",
       "Temperature(F)            126141\n",
       "Wind_Chill(F)            1480848\n",
       "Humidity(%)               130445\n",
       "Pressure(in)              114300\n",
       "Visibility(mi)            142359\n",
       "Wind_Direction            134245\n",
       "Wind_Speed(mph)           405064\n",
       "Precipitation(in)        1699680\n",
       "Weather_Condition              0\n",
       "Amenity                        0\n",
       "Bump                           0\n",
       "Crossing                       0\n",
       "Give_Way                       0\n",
       "Junction                       0\n",
       "No_Exit                        0\n",
       "Railway                        0\n",
       "Roundabout                     0\n",
       "Station                        0\n",
       "Stop                           0\n",
       "Traffic_Calming                0\n",
       "Traffic_Signal                 0\n",
       "Turning_Loop                   0\n",
       "Sunrise_Sunset             12016\n",
       "Civil_Twilight             12016\n",
       "Nautical_Twilight          12016\n",
       "Astronomical_Twilight      12016\n",
       "Hour                      417388\n",
       "Weekday                   417388\n",
       "a_states                       0\n",
       "dtype: int64"
      ]
     },
     "execution_count": 79,
     "metadata": {},
     "output_type": "execute_result"
    }
   ],
   "source": [
    "data.isnull().sum()"
   ]
  },
  {
   "cell_type": "code",
   "execution_count": 80,
   "id": "fdc4e652",
   "metadata": {},
   "outputs": [],
   "source": [
    "data=data.drop(columns=['Start_Time','State'])"
   ]
  },
  {
   "cell_type": "code",
   "execution_count": 81,
   "id": "434c1aa4",
   "metadata": {},
   "outputs": [],
   "source": [
    "cat_cols, num_cols, cat_but_car = grab_col_names(data)"
   ]
  },
  {
   "cell_type": "code",
   "execution_count": 82,
   "id": "cd8d1038",
   "metadata": {},
   "outputs": [
    {
     "data": {
      "text/plain": [
       "End_Lat                 48.770\n",
       "End_Lng                 48.770\n",
       "Precipitation(in)       34.552\n",
       "Wind_Chill(F)           30.104\n",
       "Weekday                  8.485\n",
       "Hour                     8.485\n",
       "Wind_Speed(mph)          8.234\n",
       "Visibility(mi)           2.894\n",
       "Wind_Direction           2.729\n",
       "Humidity(%)              2.652\n",
       "Temperature(F)           2.564\n",
       "Pressure(in)             2.324\n",
       "Weather_Timestamp        2.006\n",
       "Astronomical_Twilight    0.244\n",
       "Nautical_Twilight        0.244\n",
       "Civil_Twilight           0.244\n",
       "Sunrise_Sunset           0.244\n",
       "Traffic_Calming          0.000\n",
       "Traffic_Signal           0.000\n",
       "Severity                 0.000\n",
       "Turning_Loop             0.000\n",
       "Station                  0.000\n",
       "Stop                     0.000\n",
       "Crossing                 0.000\n",
       "Roundabout               0.000\n",
       "Railway                  0.000\n",
       "No_Exit                  0.000\n",
       "Junction                 0.000\n",
       "Give_Way                 0.000\n",
       "Start_Lat                0.000\n",
       "Bump                     0.000\n",
       "Amenity                  0.000\n",
       "Weather_Condition        0.000\n",
       "Distance(mi)             0.000\n",
       "Start_Lng                0.000\n",
       "a_states                 0.000\n",
       "dtype: float64"
      ]
     },
     "execution_count": 82,
     "metadata": {},
     "output_type": "execute_result"
    }
   ],
   "source": [
    "(data.isnull().sum() / data.shape[0] * 100).sort_values(ascending=False)  "
   ]
  },
  {
   "cell_type": "code",
   "execution_count": 83,
   "id": "83c8fe06",
   "metadata": {},
   "outputs": [],
   "source": [
    "data.drop(columns=['End_Lat', 'End_Lng', 'Precipitation(in)', 'Wind_Chill(F)','Wind_Direction'], inplace=True)"
   ]
  },
  {
   "cell_type": "code",
   "execution_count": 84,
   "id": "a1097b8c",
   "metadata": {},
   "outputs": [],
   "source": [
    "cat_cols, num_cols, cat_but_car = grab_col_names(data)"
   ]
  },
  {
   "cell_type": "code",
   "execution_count": 85,
   "id": "f070470b",
   "metadata": {},
   "outputs": [],
   "source": [
    "for col in num_cols:\n",
    "    data[col]=data[col].fillna(data[col].median())\n",
    "\n",
    "for col in cat_cols:\n",
    "    data[col]=data[col].fillna(data[col].mode()[0])"
   ]
  },
  {
   "cell_type": "code",
   "execution_count": 86,
   "id": "e64c0f1f",
   "metadata": {},
   "outputs": [
    {
     "name": "stdout",
     "output_type": "stream",
     "text": [
      "Series([], dtype: int64)\n"
     ]
    }
   ],
   "source": [
    "missing = data.isnull().sum().sort_values(ascending=False)\n",
    "print(missing[missing > 0])"
   ]
  },
  {
   "cell_type": "code",
   "execution_count": 87,
   "id": "d639fd5c",
   "metadata": {},
   "outputs": [
    {
     "data": {
      "text/html": [
       "<div>\n",
       "<style scoped>\n",
       "    .dataframe tbody tr th:only-of-type {\n",
       "        vertical-align: middle;\n",
       "    }\n",
       "\n",
       "    .dataframe tbody tr th {\n",
       "        vertical-align: top;\n",
       "    }\n",
       "\n",
       "    .dataframe thead th {\n",
       "        text-align: right;\n",
       "    }\n",
       "</style>\n",
       "<table border=\"1\" class=\"dataframe\">\n",
       "  <thead>\n",
       "    <tr style=\"text-align: right;\">\n",
       "      <th></th>\n",
       "      <th>Severity</th>\n",
       "      <th>Start_Lat</th>\n",
       "      <th>Start_Lng</th>\n",
       "      <th>Distance(mi)</th>\n",
       "      <th>Weather_Timestamp</th>\n",
       "      <th>Temperature(F)</th>\n",
       "      <th>Humidity(%)</th>\n",
       "      <th>Pressure(in)</th>\n",
       "      <th>Visibility(mi)</th>\n",
       "      <th>Wind_Speed(mph)</th>\n",
       "      <th>Weather_Condition</th>\n",
       "      <th>Amenity</th>\n",
       "      <th>Bump</th>\n",
       "      <th>Crossing</th>\n",
       "      <th>Give_Way</th>\n",
       "      <th>Junction</th>\n",
       "      <th>No_Exit</th>\n",
       "      <th>Railway</th>\n",
       "      <th>Roundabout</th>\n",
       "      <th>Station</th>\n",
       "      <th>Stop</th>\n",
       "      <th>Traffic_Calming</th>\n",
       "      <th>Traffic_Signal</th>\n",
       "      <th>Turning_Loop</th>\n",
       "      <th>Sunrise_Sunset</th>\n",
       "      <th>Civil_Twilight</th>\n",
       "      <th>Nautical_Twilight</th>\n",
       "      <th>Astronomical_Twilight</th>\n",
       "      <th>Hour</th>\n",
       "      <th>Weekday</th>\n",
       "      <th>a_states</th>\n",
       "    </tr>\n",
       "  </thead>\n",
       "  <tbody>\n",
       "    <tr>\n",
       "      <th>1</th>\n",
       "      <td>2</td>\n",
       "      <td>39.928</td>\n",
       "      <td>-82.831</td>\n",
       "      <td>0.010</td>\n",
       "      <td>2016-02-08 05:51:00</td>\n",
       "      <td>37.900</td>\n",
       "      <td>100.000</td>\n",
       "      <td>29.650</td>\n",
       "      <td>10.000</td>\n",
       "      <td>7.000</td>\n",
       "      <td>Rainy</td>\n",
       "      <td>False</td>\n",
       "      <td>False</td>\n",
       "      <td>False</td>\n",
       "      <td>False</td>\n",
       "      <td>False</td>\n",
       "      <td>False</td>\n",
       "      <td>False</td>\n",
       "      <td>False</td>\n",
       "      <td>False</td>\n",
       "      <td>False</td>\n",
       "      <td>False</td>\n",
       "      <td>False</td>\n",
       "      <td>False</td>\n",
       "      <td>Night</td>\n",
       "      <td>Night</td>\n",
       "      <td>Night</td>\n",
       "      <td>Day</td>\n",
       "      <td>6.000</td>\n",
       "      <td>Monday</td>\n",
       "      <td>Other</td>\n",
       "    </tr>\n",
       "    <tr>\n",
       "      <th>2</th>\n",
       "      <td>2</td>\n",
       "      <td>39.063</td>\n",
       "      <td>-84.033</td>\n",
       "      <td>0.010</td>\n",
       "      <td>2016-02-08 06:56:00</td>\n",
       "      <td>36.000</td>\n",
       "      <td>100.000</td>\n",
       "      <td>29.670</td>\n",
       "      <td>10.000</td>\n",
       "      <td>3.500</td>\n",
       "      <td>Cloudy</td>\n",
       "      <td>False</td>\n",
       "      <td>False</td>\n",
       "      <td>False</td>\n",
       "      <td>False</td>\n",
       "      <td>False</td>\n",
       "      <td>False</td>\n",
       "      <td>False</td>\n",
       "      <td>False</td>\n",
       "      <td>False</td>\n",
       "      <td>False</td>\n",
       "      <td>False</td>\n",
       "      <td>True</td>\n",
       "      <td>False</td>\n",
       "      <td>Night</td>\n",
       "      <td>Night</td>\n",
       "      <td>Day</td>\n",
       "      <td>Day</td>\n",
       "      <td>6.000</td>\n",
       "      <td>Monday</td>\n",
       "      <td>Other</td>\n",
       "    </tr>\n",
       "    <tr>\n",
       "      <th>13</th>\n",
       "      <td>2</td>\n",
       "      <td>39.791</td>\n",
       "      <td>-84.242</td>\n",
       "      <td>0.010</td>\n",
       "      <td>2016-02-08 08:56:00</td>\n",
       "      <td>36.000</td>\n",
       "      <td>89.000</td>\n",
       "      <td>29.650</td>\n",
       "      <td>10.000</td>\n",
       "      <td>5.800</td>\n",
       "      <td>Cloudy</td>\n",
       "      <td>False</td>\n",
       "      <td>False</td>\n",
       "      <td>False</td>\n",
       "      <td>False</td>\n",
       "      <td>False</td>\n",
       "      <td>False</td>\n",
       "      <td>False</td>\n",
       "      <td>False</td>\n",
       "      <td>False</td>\n",
       "      <td>False</td>\n",
       "      <td>False</td>\n",
       "      <td>True</td>\n",
       "      <td>False</td>\n",
       "      <td>Day</td>\n",
       "      <td>Day</td>\n",
       "      <td>Day</td>\n",
       "      <td>Day</td>\n",
       "      <td>8.000</td>\n",
       "      <td>Monday</td>\n",
       "      <td>Other</td>\n",
       "    </tr>\n",
       "    <tr>\n",
       "      <th>17</th>\n",
       "      <td>2</td>\n",
       "      <td>39.752</td>\n",
       "      <td>-84.240</td>\n",
       "      <td>0.000</td>\n",
       "      <td>2016-02-08 08:56:00</td>\n",
       "      <td>36.000</td>\n",
       "      <td>89.000</td>\n",
       "      <td>29.650</td>\n",
       "      <td>10.000</td>\n",
       "      <td>5.800</td>\n",
       "      <td>Cloudy</td>\n",
       "      <td>False</td>\n",
       "      <td>False</td>\n",
       "      <td>False</td>\n",
       "      <td>False</td>\n",
       "      <td>False</td>\n",
       "      <td>False</td>\n",
       "      <td>False</td>\n",
       "      <td>False</td>\n",
       "      <td>False</td>\n",
       "      <td>False</td>\n",
       "      <td>False</td>\n",
       "      <td>False</td>\n",
       "      <td>False</td>\n",
       "      <td>Day</td>\n",
       "      <td>Day</td>\n",
       "      <td>Day</td>\n",
       "      <td>Day</td>\n",
       "      <td>9.000</td>\n",
       "      <td>Monday</td>\n",
       "      <td>Other</td>\n",
       "    </tr>\n",
       "    <tr>\n",
       "      <th>18</th>\n",
       "      <td>2</td>\n",
       "      <td>39.741</td>\n",
       "      <td>-84.184</td>\n",
       "      <td>0.010</td>\n",
       "      <td>2016-02-08 09:38:00</td>\n",
       "      <td>37.400</td>\n",
       "      <td>93.000</td>\n",
       "      <td>29.630</td>\n",
       "      <td>10.000</td>\n",
       "      <td>6.900</td>\n",
       "      <td>Cloudy</td>\n",
       "      <td>False</td>\n",
       "      <td>False</td>\n",
       "      <td>True</td>\n",
       "      <td>False</td>\n",
       "      <td>False</td>\n",
       "      <td>False</td>\n",
       "      <td>False</td>\n",
       "      <td>False</td>\n",
       "      <td>False</td>\n",
       "      <td>False</td>\n",
       "      <td>False</td>\n",
       "      <td>True</td>\n",
       "      <td>False</td>\n",
       "      <td>Day</td>\n",
       "      <td>Day</td>\n",
       "      <td>Day</td>\n",
       "      <td>Day</td>\n",
       "      <td>9.000</td>\n",
       "      <td>Monday</td>\n",
       "      <td>Other</td>\n",
       "    </tr>\n",
       "  </tbody>\n",
       "</table>\n",
       "</div>"
      ],
      "text/plain": [
       "    Severity  Start_Lat  Start_Lng  Distance(mi)   Weather_Timestamp  Temperature(F)  Humidity(%)  Pressure(in)  Visibility(mi)  Wind_Speed(mph) Weather_Condition  Amenity   Bump  Crossing  Give_Way  Junction  No_Exit  Railway  Roundabout  Station   Stop  Traffic_Calming  Traffic_Signal  Turning_Loop Sunrise_Sunset Civil_Twilight Nautical_Twilight Astronomical_Twilight  Hour Weekday a_states\n",
       "1          2     39.928    -82.831         0.010 2016-02-08 05:51:00          37.900      100.000        29.650          10.000            7.000             Rainy    False  False     False     False     False    False    False       False    False  False            False           False         False          Night          Night             Night                   Day 6.000  Monday    Other\n",
       "2          2     39.063    -84.033         0.010 2016-02-08 06:56:00          36.000      100.000        29.670          10.000            3.500            Cloudy    False  False     False     False     False    False    False       False    False  False            False            True         False          Night          Night               Day                   Day 6.000  Monday    Other\n",
       "13         2     39.791    -84.242         0.010 2016-02-08 08:56:00          36.000       89.000        29.650          10.000            5.800            Cloudy    False  False     False     False     False    False    False       False    False  False            False            True         False            Day            Day               Day                   Day 8.000  Monday    Other\n",
       "17         2     39.752    -84.240         0.000 2016-02-08 08:56:00          36.000       89.000        29.650          10.000            5.800            Cloudy    False  False     False     False     False    False    False       False    False  False            False           False         False            Day            Day               Day                   Day 9.000  Monday    Other\n",
       "18         2     39.741    -84.184         0.010 2016-02-08 09:38:00          37.400       93.000        29.630          10.000            6.900            Cloudy    False  False      True     False     False    False    False       False    False  False            False            True         False            Day            Day               Day                   Day 9.000  Monday    Other"
      ]
     },
     "execution_count": 87,
     "metadata": {},
     "output_type": "execute_result"
    }
   ],
   "source": [
    "data.head()"
   ]
  },
  {
   "cell_type": "code",
   "execution_count": 88,
   "id": "2b648782",
   "metadata": {},
   "outputs": [],
   "source": [
    "label_cols = ['Sunrise_Sunset', 'Civil_Twilight', 'Nautical_Twilight', 'Astronomical_Twilight']\n",
    "le = LabelEncoder()\n",
    "for col in label_cols:\n",
    "    data[col] = le.fit_transform(data[col]) "
   ]
  },
  {
   "cell_type": "code",
   "execution_count": 89,
   "id": "fe445a08",
   "metadata": {},
   "outputs": [],
   "source": [
    "data=pd.get_dummies(data,columns=['Weather_Condition','a_states','Weekday'])\n"
   ]
  },
  {
   "cell_type": "code",
   "execution_count": 90,
   "id": "a1fe9345",
   "metadata": {},
   "outputs": [
    {
     "data": {
      "text/html": [
       "<div>\n",
       "<style scoped>\n",
       "    .dataframe tbody tr th:only-of-type {\n",
       "        vertical-align: middle;\n",
       "    }\n",
       "\n",
       "    .dataframe tbody tr th {\n",
       "        vertical-align: top;\n",
       "    }\n",
       "\n",
       "    .dataframe thead th {\n",
       "        text-align: right;\n",
       "    }\n",
       "</style>\n",
       "<table border=\"1\" class=\"dataframe\">\n",
       "  <thead>\n",
       "    <tr style=\"text-align: right;\">\n",
       "      <th></th>\n",
       "      <th>Severity</th>\n",
       "      <th>Start_Lat</th>\n",
       "      <th>Start_Lng</th>\n",
       "      <th>Distance(mi)</th>\n",
       "      <th>Weather_Timestamp</th>\n",
       "      <th>Temperature(F)</th>\n",
       "      <th>Humidity(%)</th>\n",
       "      <th>Pressure(in)</th>\n",
       "      <th>Visibility(mi)</th>\n",
       "      <th>Wind_Speed(mph)</th>\n",
       "      <th>Amenity</th>\n",
       "      <th>Bump</th>\n",
       "      <th>Crossing</th>\n",
       "      <th>Give_Way</th>\n",
       "      <th>Junction</th>\n",
       "      <th>No_Exit</th>\n",
       "      <th>Railway</th>\n",
       "      <th>Roundabout</th>\n",
       "      <th>Station</th>\n",
       "      <th>Stop</th>\n",
       "      <th>Traffic_Calming</th>\n",
       "      <th>Traffic_Signal</th>\n",
       "      <th>Turning_Loop</th>\n",
       "      <th>Sunrise_Sunset</th>\n",
       "      <th>Civil_Twilight</th>\n",
       "      <th>Nautical_Twilight</th>\n",
       "      <th>Astronomical_Twilight</th>\n",
       "      <th>Hour</th>\n",
       "      <th>Weather_Condition_Clear</th>\n",
       "      <th>Weather_Condition_Cloudy</th>\n",
       "      <th>Weather_Condition_Foggy</th>\n",
       "      <th>Weather_Condition_Other</th>\n",
       "      <th>Weather_Condition_Rainy</th>\n",
       "      <th>Weather_Condition_Snowy</th>\n",
       "      <th>Weather_Condition_Unknown</th>\n",
       "      <th>a_states_CA</th>\n",
       "      <th>a_states_FL</th>\n",
       "      <th>a_states_MN</th>\n",
       "      <th>a_states_NC</th>\n",
       "      <th>a_states_NY</th>\n",
       "      <th>a_states_OR</th>\n",
       "      <th>a_states_Other</th>\n",
       "      <th>a_states_PA</th>\n",
       "      <th>a_states_SC</th>\n",
       "      <th>a_states_TX</th>\n",
       "      <th>a_states_VA</th>\n",
       "      <th>Weekday_Friday</th>\n",
       "      <th>Weekday_Monday</th>\n",
       "      <th>Weekday_Saturday</th>\n",
       "      <th>Weekday_Sunday</th>\n",
       "      <th>Weekday_Thursday</th>\n",
       "      <th>Weekday_Tuesday</th>\n",
       "      <th>Weekday_Wednesday</th>\n",
       "    </tr>\n",
       "  </thead>\n",
       "  <tbody>\n",
       "    <tr>\n",
       "      <th>1</th>\n",
       "      <td>2</td>\n",
       "      <td>39.928</td>\n",
       "      <td>-82.831</td>\n",
       "      <td>0.010</td>\n",
       "      <td>2016-02-08 05:51:00</td>\n",
       "      <td>37.900</td>\n",
       "      <td>100.000</td>\n",
       "      <td>29.650</td>\n",
       "      <td>10.000</td>\n",
       "      <td>7.000</td>\n",
       "      <td>False</td>\n",
       "      <td>False</td>\n",
       "      <td>False</td>\n",
       "      <td>False</td>\n",
       "      <td>False</td>\n",
       "      <td>False</td>\n",
       "      <td>False</td>\n",
       "      <td>False</td>\n",
       "      <td>False</td>\n",
       "      <td>False</td>\n",
       "      <td>False</td>\n",
       "      <td>False</td>\n",
       "      <td>False</td>\n",
       "      <td>1</td>\n",
       "      <td>1</td>\n",
       "      <td>1</td>\n",
       "      <td>0</td>\n",
       "      <td>6.000</td>\n",
       "      <td>False</td>\n",
       "      <td>False</td>\n",
       "      <td>False</td>\n",
       "      <td>False</td>\n",
       "      <td>True</td>\n",
       "      <td>False</td>\n",
       "      <td>False</td>\n",
       "      <td>False</td>\n",
       "      <td>False</td>\n",
       "      <td>False</td>\n",
       "      <td>False</td>\n",
       "      <td>False</td>\n",
       "      <td>False</td>\n",
       "      <td>True</td>\n",
       "      <td>False</td>\n",
       "      <td>False</td>\n",
       "      <td>False</td>\n",
       "      <td>False</td>\n",
       "      <td>False</td>\n",
       "      <td>True</td>\n",
       "      <td>False</td>\n",
       "      <td>False</td>\n",
       "      <td>False</td>\n",
       "      <td>False</td>\n",
       "      <td>False</td>\n",
       "    </tr>\n",
       "    <tr>\n",
       "      <th>2</th>\n",
       "      <td>2</td>\n",
       "      <td>39.063</td>\n",
       "      <td>-84.033</td>\n",
       "      <td>0.010</td>\n",
       "      <td>2016-02-08 06:56:00</td>\n",
       "      <td>36.000</td>\n",
       "      <td>100.000</td>\n",
       "      <td>29.670</td>\n",
       "      <td>10.000</td>\n",
       "      <td>3.500</td>\n",
       "      <td>False</td>\n",
       "      <td>False</td>\n",
       "      <td>False</td>\n",
       "      <td>False</td>\n",
       "      <td>False</td>\n",
       "      <td>False</td>\n",
       "      <td>False</td>\n",
       "      <td>False</td>\n",
       "      <td>False</td>\n",
       "      <td>False</td>\n",
       "      <td>False</td>\n",
       "      <td>True</td>\n",
       "      <td>False</td>\n",
       "      <td>1</td>\n",
       "      <td>1</td>\n",
       "      <td>0</td>\n",
       "      <td>0</td>\n",
       "      <td>6.000</td>\n",
       "      <td>False</td>\n",
       "      <td>True</td>\n",
       "      <td>False</td>\n",
       "      <td>False</td>\n",
       "      <td>False</td>\n",
       "      <td>False</td>\n",
       "      <td>False</td>\n",
       "      <td>False</td>\n",
       "      <td>False</td>\n",
       "      <td>False</td>\n",
       "      <td>False</td>\n",
       "      <td>False</td>\n",
       "      <td>False</td>\n",
       "      <td>True</td>\n",
       "      <td>False</td>\n",
       "      <td>False</td>\n",
       "      <td>False</td>\n",
       "      <td>False</td>\n",
       "      <td>False</td>\n",
       "      <td>True</td>\n",
       "      <td>False</td>\n",
       "      <td>False</td>\n",
       "      <td>False</td>\n",
       "      <td>False</td>\n",
       "      <td>False</td>\n",
       "    </tr>\n",
       "    <tr>\n",
       "      <th>13</th>\n",
       "      <td>2</td>\n",
       "      <td>39.791</td>\n",
       "      <td>-84.242</td>\n",
       "      <td>0.010</td>\n",
       "      <td>2016-02-08 08:56:00</td>\n",
       "      <td>36.000</td>\n",
       "      <td>89.000</td>\n",
       "      <td>29.650</td>\n",
       "      <td>10.000</td>\n",
       "      <td>5.800</td>\n",
       "      <td>False</td>\n",
       "      <td>False</td>\n",
       "      <td>False</td>\n",
       "      <td>False</td>\n",
       "      <td>False</td>\n",
       "      <td>False</td>\n",
       "      <td>False</td>\n",
       "      <td>False</td>\n",
       "      <td>False</td>\n",
       "      <td>False</td>\n",
       "      <td>False</td>\n",
       "      <td>True</td>\n",
       "      <td>False</td>\n",
       "      <td>0</td>\n",
       "      <td>0</td>\n",
       "      <td>0</td>\n",
       "      <td>0</td>\n",
       "      <td>8.000</td>\n",
       "      <td>False</td>\n",
       "      <td>True</td>\n",
       "      <td>False</td>\n",
       "      <td>False</td>\n",
       "      <td>False</td>\n",
       "      <td>False</td>\n",
       "      <td>False</td>\n",
       "      <td>False</td>\n",
       "      <td>False</td>\n",
       "      <td>False</td>\n",
       "      <td>False</td>\n",
       "      <td>False</td>\n",
       "      <td>False</td>\n",
       "      <td>True</td>\n",
       "      <td>False</td>\n",
       "      <td>False</td>\n",
       "      <td>False</td>\n",
       "      <td>False</td>\n",
       "      <td>False</td>\n",
       "      <td>True</td>\n",
       "      <td>False</td>\n",
       "      <td>False</td>\n",
       "      <td>False</td>\n",
       "      <td>False</td>\n",
       "      <td>False</td>\n",
       "    </tr>\n",
       "    <tr>\n",
       "      <th>17</th>\n",
       "      <td>2</td>\n",
       "      <td>39.752</td>\n",
       "      <td>-84.240</td>\n",
       "      <td>0.000</td>\n",
       "      <td>2016-02-08 08:56:00</td>\n",
       "      <td>36.000</td>\n",
       "      <td>89.000</td>\n",
       "      <td>29.650</td>\n",
       "      <td>10.000</td>\n",
       "      <td>5.800</td>\n",
       "      <td>False</td>\n",
       "      <td>False</td>\n",
       "      <td>False</td>\n",
       "      <td>False</td>\n",
       "      <td>False</td>\n",
       "      <td>False</td>\n",
       "      <td>False</td>\n",
       "      <td>False</td>\n",
       "      <td>False</td>\n",
       "      <td>False</td>\n",
       "      <td>False</td>\n",
       "      <td>False</td>\n",
       "      <td>False</td>\n",
       "      <td>0</td>\n",
       "      <td>0</td>\n",
       "      <td>0</td>\n",
       "      <td>0</td>\n",
       "      <td>9.000</td>\n",
       "      <td>False</td>\n",
       "      <td>True</td>\n",
       "      <td>False</td>\n",
       "      <td>False</td>\n",
       "      <td>False</td>\n",
       "      <td>False</td>\n",
       "      <td>False</td>\n",
       "      <td>False</td>\n",
       "      <td>False</td>\n",
       "      <td>False</td>\n",
       "      <td>False</td>\n",
       "      <td>False</td>\n",
       "      <td>False</td>\n",
       "      <td>True</td>\n",
       "      <td>False</td>\n",
       "      <td>False</td>\n",
       "      <td>False</td>\n",
       "      <td>False</td>\n",
       "      <td>False</td>\n",
       "      <td>True</td>\n",
       "      <td>False</td>\n",
       "      <td>False</td>\n",
       "      <td>False</td>\n",
       "      <td>False</td>\n",
       "      <td>False</td>\n",
       "    </tr>\n",
       "    <tr>\n",
       "      <th>18</th>\n",
       "      <td>2</td>\n",
       "      <td>39.741</td>\n",
       "      <td>-84.184</td>\n",
       "      <td>0.010</td>\n",
       "      <td>2016-02-08 09:38:00</td>\n",
       "      <td>37.400</td>\n",
       "      <td>93.000</td>\n",
       "      <td>29.630</td>\n",
       "      <td>10.000</td>\n",
       "      <td>6.900</td>\n",
       "      <td>False</td>\n",
       "      <td>False</td>\n",
       "      <td>True</td>\n",
       "      <td>False</td>\n",
       "      <td>False</td>\n",
       "      <td>False</td>\n",
       "      <td>False</td>\n",
       "      <td>False</td>\n",
       "      <td>False</td>\n",
       "      <td>False</td>\n",
       "      <td>False</td>\n",
       "      <td>True</td>\n",
       "      <td>False</td>\n",
       "      <td>0</td>\n",
       "      <td>0</td>\n",
       "      <td>0</td>\n",
       "      <td>0</td>\n",
       "      <td>9.000</td>\n",
       "      <td>False</td>\n",
       "      <td>True</td>\n",
       "      <td>False</td>\n",
       "      <td>False</td>\n",
       "      <td>False</td>\n",
       "      <td>False</td>\n",
       "      <td>False</td>\n",
       "      <td>False</td>\n",
       "      <td>False</td>\n",
       "      <td>False</td>\n",
       "      <td>False</td>\n",
       "      <td>False</td>\n",
       "      <td>False</td>\n",
       "      <td>True</td>\n",
       "      <td>False</td>\n",
       "      <td>False</td>\n",
       "      <td>False</td>\n",
       "      <td>False</td>\n",
       "      <td>False</td>\n",
       "      <td>True</td>\n",
       "      <td>False</td>\n",
       "      <td>False</td>\n",
       "      <td>False</td>\n",
       "      <td>False</td>\n",
       "      <td>False</td>\n",
       "    </tr>\n",
       "  </tbody>\n",
       "</table>\n",
       "</div>"
      ],
      "text/plain": [
       "    Severity  Start_Lat  Start_Lng  Distance(mi)   Weather_Timestamp  Temperature(F)  Humidity(%)  Pressure(in)  Visibility(mi)  Wind_Speed(mph)  Amenity   Bump  Crossing  Give_Way  Junction  No_Exit  Railway  Roundabout  Station   Stop  Traffic_Calming  Traffic_Signal  Turning_Loop  Sunrise_Sunset  Civil_Twilight  Nautical_Twilight  Astronomical_Twilight  Hour  Weather_Condition_Clear  Weather_Condition_Cloudy  Weather_Condition_Foggy  Weather_Condition_Other  Weather_Condition_Rainy  \\\n",
       "1          2     39.928    -82.831         0.010 2016-02-08 05:51:00          37.900      100.000        29.650          10.000            7.000    False  False     False     False     False    False    False       False    False  False            False           False         False               1               1                  1                      0 6.000                    False                     False                    False                    False                     True   \n",
       "2          2     39.063    -84.033         0.010 2016-02-08 06:56:00          36.000      100.000        29.670          10.000            3.500    False  False     False     False     False    False    False       False    False  False            False            True         False               1               1                  0                      0 6.000                    False                      True                    False                    False                    False   \n",
       "13         2     39.791    -84.242         0.010 2016-02-08 08:56:00          36.000       89.000        29.650          10.000            5.800    False  False     False     False     False    False    False       False    False  False            False            True         False               0               0                  0                      0 8.000                    False                      True                    False                    False                    False   \n",
       "17         2     39.752    -84.240         0.000 2016-02-08 08:56:00          36.000       89.000        29.650          10.000            5.800    False  False     False     False     False    False    False       False    False  False            False           False         False               0               0                  0                      0 9.000                    False                      True                    False                    False                    False   \n",
       "18         2     39.741    -84.184         0.010 2016-02-08 09:38:00          37.400       93.000        29.630          10.000            6.900    False  False      True     False     False    False    False       False    False  False            False            True         False               0               0                  0                      0 9.000                    False                      True                    False                    False                    False   \n",
       "\n",
       "    Weather_Condition_Snowy  Weather_Condition_Unknown  a_states_CA  a_states_FL  a_states_MN  a_states_NC  a_states_NY  a_states_OR  a_states_Other  a_states_PA  a_states_SC  a_states_TX  a_states_VA  Weekday_Friday  Weekday_Monday  Weekday_Saturday  Weekday_Sunday  Weekday_Thursday  Weekday_Tuesday  Weekday_Wednesday  \n",
       "1                     False                      False        False        False        False        False        False        False            True        False        False        False        False           False            True             False           False             False            False              False  \n",
       "2                     False                      False        False        False        False        False        False        False            True        False        False        False        False           False            True             False           False             False            False              False  \n",
       "13                    False                      False        False        False        False        False        False        False            True        False        False        False        False           False            True             False           False             False            False              False  \n",
       "17                    False                      False        False        False        False        False        False        False            True        False        False        False        False           False            True             False           False             False            False              False  \n",
       "18                    False                      False        False        False        False        False        False        False            True        False        False        False        False           False            True             False           False             False            False              False  "
      ]
     },
     "execution_count": 90,
     "metadata": {},
     "output_type": "execute_result"
    }
   ],
   "source": [
    "data.head()"
   ]
  },
  {
   "cell_type": "code",
   "execution_count": 91,
   "id": "00dd3d6e",
   "metadata": {},
   "outputs": [],
   "source": [
    "\n",
    "y=data['Severity']\n",
    "\n",
    "X=data.drop('Severity',axis=1)"
   ]
  },
  {
   "cell_type": "code",
   "execution_count": 92,
   "id": "edbcf54e",
   "metadata": {},
   "outputs": [],
   "source": [
    "X = X.drop(columns=[\"Weather_Timestamp\"])"
   ]
  },
  {
   "cell_type": "code",
   "execution_count": 93,
   "id": "95704923",
   "metadata": {},
   "outputs": [
    {
     "name": "stdout",
     "output_type": "stream",
     "text": [
      "[[0.62882999 0.72669388 0.02030457 ... 0.         0.         0.        ]\n",
      " [0.59345155 0.70580342 0.02030457 ... 0.         0.         0.        ]\n",
      " [0.6232139  0.70217038 0.02030457 ... 0.         0.         0.        ]\n",
      " ...\n",
      " [0.33591137 0.12998933 0.68629442 ... 0.         0.         0.        ]\n",
      " [0.37716279 0.11782237 1.         ... 0.         0.         0.        ]\n",
      " [0.3860394  0.10816799 1.         ... 0.         0.         0.        ]]\n"
     ]
    }
   ],
   "source": [
    "from sklearn.preprocessing import MinMaxScaler\n",
    "\n",
    "scalem=MinMaxScaler()\n",
    "X=scalem.fit_transform(X)\n",
    "\n",
    "print(X)"
   ]
  },
  {
   "cell_type": "code",
   "execution_count": 94,
   "id": "6b5011a9",
   "metadata": {},
   "outputs": [],
   "source": [
    "from sklearn.model_selection import train_test_split\n",
    "X_train,X_test,y_train,y_test=train_test_split(X,y,test_size=0.2,random_state=42)"
   ]
  },
  {
   "cell_type": "code",
   "execution_count": 95,
   "id": "75ffb6ad",
   "metadata": {},
   "outputs": [
    {
     "name": "stdout",
     "output_type": "stream",
     "text": [
      "0.8596967349917567\n"
     ]
    }
   ],
   "source": [
    "from sklearn.tree import DecisionTreeClassifier\n",
    "\n",
    "dtc=DecisionTreeClassifier(min_samples_split=11)\n",
    "dtc.fit(X_train,y_train)\n",
    "print(dtc.score(X_test,y_test))"
   ]
  },
  {
   "cell_type": "code",
   "execution_count": 96,
   "id": "d0213710",
   "metadata": {},
   "outputs": [
    {
     "data": {
      "text/plain": [
       "0.8596967349917567"
      ]
     },
     "execution_count": 96,
     "metadata": {},
     "output_type": "execute_result"
    }
   ],
   "source": [
    "y_predict=dtc.predict(X_test)\n",
    "\n",
    "from sklearn.metrics import accuracy_score\n",
    "\n",
    "accuracy_score(y_test,y_predict)"
   ]
  },
  {
   "cell_type": "code",
   "execution_count": 97,
   "id": "c3e4458f",
   "metadata": {},
   "outputs": [
    {
     "data": {
      "image/png": "[encoded data removed]",
      "text/plain": [
       "<Figure size 640x480 with 2 Axes>"
      ]
     },
     "metadata": {},
     "output_type": "display_data"
    }
   ],
   "source": [
    "from sklearn.metrics import confusion_matrix,ConfusionMatrixDisplay\n",
    "\n",
    "cm=confusion_matrix(y_test,y_predict)\n",
    "cmdisp=ConfusionMatrixDisplay(confusion_matrix=cm)\n",
    "cmdisp.plot(cmap='Blues')\n",
    "plt.title('Confusion Matrix')\n",
    "plt.show()"
   ]
  },
  {
   "cell_type": "code",
   "execution_count": 98,
   "id": "90547b50",
   "metadata": {},
   "outputs": [
    {
     "name": "stdout",
     "output_type": "stream",
     "text": [
      "              precision    recall  f1-score   support\n",
      "\n",
      "           1     0.2352    0.2504    0.2426      9333\n",
      "           2     0.9082    0.9223    0.9152    779422\n",
      "           3     0.7192    0.6885    0.7035    173901\n",
      "           4     0.3068    0.2298    0.2627     21170\n",
      "\n",
      "    accuracy                         0.8597    983826\n",
      "   macro avg     0.5423    0.5227    0.5310    983826\n",
      "weighted avg     0.8554    0.8597    0.8573    983826\n",
      "\n"
     ]
    }
   ],
   "source": [
    "from sklearn.metrics import classification_report\n",
    "\n",
    "print(classification_report(y_test,y_predict,digits=4))"
   ]
  }
 ],
 "metadata": {
  "kernelspec": {
   "display_name": "Python 3",
   "language": "python",
   "name": "python3"
  },
  "language_info": {
   "codemirror_mode": {
    "name": "ipython",
    "version": 3
   },
   "file_extension": ".py",
   "mimetype": "text/x-python",
   "name": "python",
   "nbconvert_exporter": "python",
   "pygments_lexer": "ipython3",
   "version": "3.11.9"
  }
 },
 "nbformat": 4,
 "nbformat_minor": 5
}
